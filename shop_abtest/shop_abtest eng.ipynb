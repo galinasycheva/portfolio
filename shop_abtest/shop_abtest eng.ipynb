{
 "cells": [
  {
   "cell_type": "markdown",
   "metadata": {},
   "source": [
    "# A/B testing for an online store\n",
    "\n",
    "In this project I will show part of the work that I did together with the marketing department of an online flower shop. My tasks included: analyzing the proposed hypotheses using the ICE and RISE methods, as well as analyzing the results of A/B testing for one of the hypotheses.\n",
    "\n",
    "**Data description**\n",
    "\n",
    "Data for testing hypotheses\n",
    "\n",
    "File /datasets/hypothesis.csv.\n",
    "- Hypothesis — brief description of the hypothesis;\n",
    "- Reach — user reach on a 10-point scale;\n",
    "- Impact — influence on users on a 10-point scale;\n",
    "- Confidence — confidence in the hypothesis on a 10-point scale;\n",
    "- Efforts — resource costs for testing the hypothesis on a 10-point scale. The higher the Efforts value, the more expensive the hypothesis testing.\n",
    "\n",
    "Data for conducting an A/B test\n",
    "\n",
    "File /datasets/orders.csv. \n",
    "- transactionId — order identifier;\n",
    "- visitorId — identifier of the user who placed the order;\n",
    "- date — date when the order was made;\n",
    "- revenue — order revenue;\n",
    "- group — A/B test group the order was in.\n",
    "\n",
    "File /datasets/visitors.csv.\n",
    "date — date;\n",
    "group — A/B test group;\n",
    "visitors — number of users on the specified date in the specified A/B test group"
   ]
  },
  {
   "cell_type": "code",
   "execution_count": 1,
   "metadata": {},
   "outputs": [],
   "source": [
    "import pandas as pd\n",
    "import numpy as np\n",
    "import seaborn as sns\n",
    "import datetime as dt\n",
    "from matplotlib import pyplot as plt\n",
    "import plotly.express as px \n",
    "from plotly import graph_objects as go \n",
    "from scipy import stats as st"
   ]
  },
  {
   "cell_type": "markdown",
   "metadata": {},
   "source": [
    "## Prioritization of hypotheses.\n",
    "We have 9 hypotheses for increasing the revenue of an online store with the specified parameters Reach, Impact, Confidence, Effort. Next, I will apply the ICE and RICE frameworks to prioritize the hypotheses, and also examine the changes.\n"
   ]
  },
  {
   "cell_type": "code",
   "execution_count": 2,
   "metadata": {},
   "outputs": [],
   "source": [
    "from io import BytesIO\n",
    "import requests\n",
    "spreadsheet_id = '1Vj-t1cy4Z17Jb_1TmmGj5V-edoJ3Eym_rxkm0evoIw0'\n",
    "file_name = 'https://docs.google.com/spreadsheets/d/{}/export?format=csv'.format(spreadsheet_id)\n",
    "r = requests.get(file_name)\n",
    "hyp = pd.read_csv(BytesIO(r.content))"
   ]
  },
  {
   "cell_type": "code",
   "execution_count": 3,
   "metadata": {},
   "outputs": [
    {
     "data": {
      "text/html": [
       "<div>\n",
       "<style scoped>\n",
       "    .dataframe tbody tr th:only-of-type {\n",
       "        vertical-align: middle;\n",
       "    }\n",
       "\n",
       "    .dataframe tbody tr th {\n",
       "        vertical-align: top;\n",
       "    }\n",
       "\n",
       "    .dataframe thead th {\n",
       "        text-align: right;\n",
       "    }\n",
       "</style>\n",
       "<table border=\"1\" class=\"dataframe\">\n",
       "  <thead>\n",
       "    <tr style=\"text-align: right;\">\n",
       "      <th></th>\n",
       "      <th>Hypothesis</th>\n",
       "      <th>Reach</th>\n",
       "      <th>Impact</th>\n",
       "      <th>Confidence</th>\n",
       "      <th>Efforts</th>\n",
       "    </tr>\n",
       "  </thead>\n",
       "  <tbody>\n",
       "    <tr>\n",
       "      <th>0</th>\n",
       "      <td>Add two new traffic acquisition channels, which will allow you to attract 30% more users</td>\n",
       "      <td>3</td>\n",
       "      <td>10</td>\n",
       "      <td>8</td>\n",
       "      <td>6</td>\n",
       "    </tr>\n",
       "    <tr>\n",
       "      <th>1</th>\n",
       "      <td>\\nLaunch your own delivery service, which will reduce the delivery time of orders</td>\n",
       "      <td>2</td>\n",
       "      <td>5</td>\n",
       "      <td>4</td>\n",
       "      <td>10</td>\n",
       "    </tr>\n",
       "    <tr>\n",
       "      <th>2</th>\n",
       "      <td>Add product recommendation blocks to your online store website to increase conversion and average order value</td>\n",
       "      <td>8</td>\n",
       "      <td>3</td>\n",
       "      <td>7</td>\n",
       "      <td>3</td>\n",
       "    </tr>\n",
       "    <tr>\n",
       "      <th>3</th>\n",
       "      <td>Change the category structure, which will increase conversion, as users will find the desired product faster</td>\n",
       "      <td>8</td>\n",
       "      <td>3</td>\n",
       "      <td>3</td>\n",
       "      <td>8</td>\n",
       "    </tr>\n",
       "    <tr>\n",
       "      <th>4</th>\n",
       "      <td>Change Homepage Background Color to Increase User Engagement</td>\n",
       "      <td>3</td>\n",
       "      <td>1</td>\n",
       "      <td>1</td>\n",
       "      <td>1</td>\n",
       "    </tr>\n",
       "    <tr>\n",
       "      <th>5</th>\n",
       "      <td>Add a customer feedback page for the store to increase the number of orders</td>\n",
       "      <td>3</td>\n",
       "      <td>2</td>\n",
       "      <td>2</td>\n",
       "      <td>3</td>\n",
       "    </tr>\n",
       "    <tr>\n",
       "      <th>6</th>\n",
       "      <td>Display banners with current promotions and sales on the main page to increase conversion</td>\n",
       "      <td>5</td>\n",
       "      <td>3</td>\n",
       "      <td>8</td>\n",
       "      <td>3</td>\n",
       "    </tr>\n",
       "    <tr>\n",
       "      <th>7</th>\n",
       "      <td>Add a subscription form to all your main pages to build your customer base for email newsletters</td>\n",
       "      <td>10</td>\n",
       "      <td>7</td>\n",
       "      <td>8</td>\n",
       "      <td>5</td>\n",
       "    </tr>\n",
       "    <tr>\n",
       "      <th>8</th>\n",
       "      <td>Launch a promotion that gives a discount on a product on your birthday</td>\n",
       "      <td>1</td>\n",
       "      <td>9</td>\n",
       "      <td>9</td>\n",
       "      <td>5</td>\n",
       "    </tr>\n",
       "  </tbody>\n",
       "</table>\n",
       "</div>"
      ],
      "text/plain": [
       "                                                                                                      Hypothesis  \\\n",
       "0  Add two new traffic acquisition channels, which will allow you to attract 30% more users                        \n",
       "1  \\nLaunch your own delivery service, which will reduce the delivery time of orders                               \n",
       "2  Add product recommendation blocks to your online store website to increase conversion and average order value   \n",
       "3  Change the category structure, which will increase conversion, as users will find the desired product faster    \n",
       "4  Change Homepage Background Color to Increase User Engagement                                                    \n",
       "5  Add a customer feedback page for the store to increase the number of orders                                     \n",
       "6  Display banners with current promotions and sales on the main page to increase conversion                       \n",
       "7  Add a subscription form to all your main pages to build your customer base for email newsletters                \n",
       "8  Launch a promotion that gives a discount on a product on your birthday                                          \n",
       "\n",
       "   Reach  Impact  Confidence  Efforts  \n",
       "0  3      10      8           6        \n",
       "1  2      5       4           10       \n",
       "2  8      3       7           3        \n",
       "3  8      3       3           8        \n",
       "4  3      1       1           1        \n",
       "5  3      2       2           3        \n",
       "6  5      3       8           3        \n",
       "7  10     7       8           5        \n",
       "8  1      9       9           5        "
      ]
     },
     "metadata": {},
     "output_type": "display_data"
    }
   ],
   "source": [
    "pd.options.display.max_colwidth = 1\n",
    "display(hyp)"
   ]
  },
  {
   "cell_type": "code",
   "execution_count": 4,
   "metadata": {},
   "outputs": [
    {
     "data": {
      "text/html": [
       "<div>\n",
       "<style scoped>\n",
       "    .dataframe tbody tr th:only-of-type {\n",
       "        vertical-align: middle;\n",
       "    }\n",
       "\n",
       "    .dataframe tbody tr th {\n",
       "        vertical-align: top;\n",
       "    }\n",
       "\n",
       "    .dataframe thead th {\n",
       "        text-align: right;\n",
       "    }\n",
       "</style>\n",
       "<table border=\"1\" class=\"dataframe\">\n",
       "  <thead>\n",
       "    <tr style=\"text-align: right;\">\n",
       "      <th></th>\n",
       "      <th>Hypothesis</th>\n",
       "      <th>ICE</th>\n",
       "    </tr>\n",
       "  </thead>\n",
       "  <tbody>\n",
       "    <tr>\n",
       "      <th>8</th>\n",
       "      <td>Launch a promotion that gives a discount on a product on your birthday</td>\n",
       "      <td>16.200</td>\n",
       "    </tr>\n",
       "    <tr>\n",
       "      <th>0</th>\n",
       "      <td>Add two new traffic acquisition channels, which will allow you to attract 30% more users</td>\n",
       "      <td>13.333</td>\n",
       "    </tr>\n",
       "    <tr>\n",
       "      <th>7</th>\n",
       "      <td>Add a subscription form to all your main pages to build your customer base for email newsletters</td>\n",
       "      <td>11.200</td>\n",
       "    </tr>\n",
       "    <tr>\n",
       "      <th>6</th>\n",
       "      <td>Display banners with current promotions and sales on the main page to increase conversion</td>\n",
       "      <td>8.000</td>\n",
       "    </tr>\n",
       "    <tr>\n",
       "      <th>2</th>\n",
       "      <td>Add product recommendation blocks to your online store website to increase conversion and average order value</td>\n",
       "      <td>7.000</td>\n",
       "    </tr>\n",
       "    <tr>\n",
       "      <th>1</th>\n",
       "      <td>\\nLaunch your own delivery service, which will reduce the delivery time of orders</td>\n",
       "      <td>2.000</td>\n",
       "    </tr>\n",
       "    <tr>\n",
       "      <th>5</th>\n",
       "      <td>Add a customer feedback page for the store to increase the number of orders</td>\n",
       "      <td>1.333</td>\n",
       "    </tr>\n",
       "    <tr>\n",
       "      <th>3</th>\n",
       "      <td>Change the category structure, which will increase conversion, as users will find the desired product faster</td>\n",
       "      <td>1.125</td>\n",
       "    </tr>\n",
       "    <tr>\n",
       "      <th>4</th>\n",
       "      <td>Change Homepage Background Color to Increase User Engagement</td>\n",
       "      <td>1.000</td>\n",
       "    </tr>\n",
       "  </tbody>\n",
       "</table>\n",
       "</div>"
      ],
      "text/plain": [
       "                                                                                                      Hypothesis  \\\n",
       "8  Launch a promotion that gives a discount on a product on your birthday                                          \n",
       "0  Add two new traffic acquisition channels, which will allow you to attract 30% more users                        \n",
       "7  Add a subscription form to all your main pages to build your customer base for email newsletters                \n",
       "6  Display banners with current promotions and sales on the main page to increase conversion                       \n",
       "2  Add product recommendation blocks to your online store website to increase conversion and average order value   \n",
       "1  \\nLaunch your own delivery service, which will reduce the delivery time of orders                               \n",
       "5  Add a customer feedback page for the store to increase the number of orders                                     \n",
       "3  Change the category structure, which will increase conversion, as users will find the desired product faster    \n",
       "4  Change Homepage Background Color to Increase User Engagement                                                    \n",
       "\n",
       "      ICE  \n",
       "8  16.200  \n",
       "0  13.333  \n",
       "7  11.200  \n",
       "6  8.000   \n",
       "2  7.000   \n",
       "1  2.000   \n",
       "5  1.333   \n",
       "3  1.125   \n",
       "4  1.000   "
      ]
     },
     "metadata": {},
     "output_type": "display_data"
    }
   ],
   "source": [
    "hyp['ICE'] = (hyp['Impact'] * hyp['Confidence'])/hyp['Efforts']\n",
    "hyp['ICE'] = hyp['ICE'].round(3)\n",
    "pd.options.display.max_colwidth = 1\n",
    "display(hyp[['Hypothesis','ICE']].sort_values(by='ICE', ascending=False))"
   ]
  },
  {
   "cell_type": "code",
   "execution_count": 5,
   "metadata": {},
   "outputs": [
    {
     "data": {
      "text/html": [
       "<div>\n",
       "<style scoped>\n",
       "    .dataframe tbody tr th:only-of-type {\n",
       "        vertical-align: middle;\n",
       "    }\n",
       "\n",
       "    .dataframe tbody tr th {\n",
       "        vertical-align: top;\n",
       "    }\n",
       "\n",
       "    .dataframe thead th {\n",
       "        text-align: right;\n",
       "    }\n",
       "</style>\n",
       "<table border=\"1\" class=\"dataframe\">\n",
       "  <thead>\n",
       "    <tr style=\"text-align: right;\">\n",
       "      <th></th>\n",
       "      <th>Hypothesis</th>\n",
       "      <th>RICE</th>\n",
       "    </tr>\n",
       "  </thead>\n",
       "  <tbody>\n",
       "    <tr>\n",
       "      <th>7</th>\n",
       "      <td>Add a subscription form to all your main pages to build your customer base for email newsletters</td>\n",
       "      <td>112.0</td>\n",
       "    </tr>\n",
       "    <tr>\n",
       "      <th>2</th>\n",
       "      <td>Add product recommendation blocks to your online store website to increase conversion and average order value</td>\n",
       "      <td>56.0</td>\n",
       "    </tr>\n",
       "    <tr>\n",
       "      <th>0</th>\n",
       "      <td>Add two new traffic acquisition channels, which will allow you to attract 30% more users</td>\n",
       "      <td>40.0</td>\n",
       "    </tr>\n",
       "    <tr>\n",
       "      <th>6</th>\n",
       "      <td>Display banners with current promotions and sales on the main page to increase conversion</td>\n",
       "      <td>40.0</td>\n",
       "    </tr>\n",
       "    <tr>\n",
       "      <th>8</th>\n",
       "      <td>Launch a promotion that gives a discount on a product on your birthday</td>\n",
       "      <td>16.2</td>\n",
       "    </tr>\n",
       "    <tr>\n",
       "      <th>3</th>\n",
       "      <td>Change the category structure, which will increase conversion, as users will find the desired product faster</td>\n",
       "      <td>9.0</td>\n",
       "    </tr>\n",
       "    <tr>\n",
       "      <th>1</th>\n",
       "      <td>\\nLaunch your own delivery service, which will reduce the delivery time of orders</td>\n",
       "      <td>4.0</td>\n",
       "    </tr>\n",
       "    <tr>\n",
       "      <th>5</th>\n",
       "      <td>Add a customer feedback page for the store to increase the number of orders</td>\n",
       "      <td>4.0</td>\n",
       "    </tr>\n",
       "    <tr>\n",
       "      <th>4</th>\n",
       "      <td>Change Homepage Background Color to Increase User Engagement</td>\n",
       "      <td>3.0</td>\n",
       "    </tr>\n",
       "  </tbody>\n",
       "</table>\n",
       "</div>"
      ],
      "text/plain": [
       "                                                                                                      Hypothesis  \\\n",
       "7  Add a subscription form to all your main pages to build your customer base for email newsletters                \n",
       "2  Add product recommendation blocks to your online store website to increase conversion and average order value   \n",
       "0  Add two new traffic acquisition channels, which will allow you to attract 30% more users                        \n",
       "6  Display banners with current promotions and sales on the main page to increase conversion                       \n",
       "8  Launch a promotion that gives a discount on a product on your birthday                                          \n",
       "3  Change the category structure, which will increase conversion, as users will find the desired product faster    \n",
       "1  \\nLaunch your own delivery service, which will reduce the delivery time of orders                               \n",
       "5  Add a customer feedback page for the store to increase the number of orders                                     \n",
       "4  Change Homepage Background Color to Increase User Engagement                                                    \n",
       "\n",
       "    RICE  \n",
       "7  112.0  \n",
       "2  56.0   \n",
       "0  40.0   \n",
       "6  40.0   \n",
       "8  16.2   \n",
       "3  9.0    \n",
       "1  4.0    \n",
       "5  4.0    \n",
       "4  3.0    "
      ]
     },
     "metadata": {},
     "output_type": "display_data"
    }
   ],
   "source": [
    "hyp['RICE'] = (hyp['Impact'] * hyp['Confidence']*hyp['Reach'])/hyp['Efforts']\n",
    "hyp['RICE'] = hyp['RICE'].round(3)\n",
    "pd.options.display.max_colwidth = 1 # напишите ваш код здесь\n",
    "display(hyp[['Hypothesis','RICE']].sort_values(by='RICE', ascending=False))"
   ]
  },
  {
   "cell_type": "markdown",
   "metadata": {},
   "source": [
    "## Conclusion\n",
    "When using the ICE framework, the leaders are hypotheses eight, zero and seven. When using the 'RICE' framework, the top three are hypotheses 7, 2 and 0. Hypothesis 2 is higher in the RICE framework because it has a high Reach value (as well as 7 and 0), but the eighth hypothesis is out of the top three - it has a very low Reach value."
   ]
  },
  {
   "cell_type": "markdown",
   "metadata": {},
   "source": [
    "## A/B test analysis"
   ]
  },
  {
   "cell_type": "markdown",
   "metadata": {},
   "source": [
    "### Data overview"
   ]
  },
  {
   "cell_type": "code",
   "execution_count": 6,
   "metadata": {},
   "outputs": [],
   "source": [
    "from io import BytesIO\n",
    "import requests\n",
    "spreadsheet_id = '1be-KzBtgOeM_yWwZsWsRRAR8VGJgzSPEjnCxMivA-b4'\n",
    "file_name = 'https://docs.google.com/spreadsheets/d/{}/export?format=csv'.format(spreadsheet_id)\n",
    "r = requests.get(file_name)\n",
    "orders = pd.read_csv(BytesIO(r.content))"
   ]
  },
  {
   "cell_type": "code",
   "execution_count": 7,
   "metadata": {},
   "outputs": [],
   "source": [
    "from io import BytesIO\n",
    "import requests\n",
    "spreadsheet_id = '1Gd80rjkKtzUJOl1IAUHLGePjEngCXBZPXvMEh7EiqaU'\n",
    "file_name = 'https://docs.google.com/spreadsheets/d/{}/export?format=csv'.format(spreadsheet_id)\n",
    "r = requests.get(file_name)\n",
    "visitors = pd.read_csv(BytesIO(r.content))"
   ]
  },
  {
   "cell_type": "code",
   "execution_count": 8,
   "metadata": {},
   "outputs": [
    {
     "name": "stdout",
     "output_type": "stream",
     "text": [
      "   transactionId   visitorId        date  revenue group\n",
      "0  3667963787     3312258926  2019-08-15  1650     B   \n",
      "1  2804400009     3642806036  2019-08-15  730      B   \n",
      "2  2961555356     4069496402  2019-08-15  400      A   \n",
      "3  3797467345     1196621759  2019-08-15  9759     B   \n",
      "4  2282983706     2322279887  2019-08-15  2308     B   \n",
      "         date group  visitors\n",
      "0  2019-08-01  A     719     \n",
      "1  2019-08-02  A     619     \n",
      "2  2019-08-03  A     507     \n",
      "3  2019-08-04  A     717     \n",
      "4  2019-08-05  A     756     \n"
     ]
    }
   ],
   "source": [
    "print(orders.head(5))\n",
    "print(visitors.head(5))"
   ]
  },
  {
   "cell_type": "code",
   "execution_count": 9,
   "metadata": {},
   "outputs": [
    {
     "name": "stdout",
     "output_type": "stream",
     "text": [
      "<class 'pandas.core.frame.DataFrame'>\n",
      "RangeIndex: 1197 entries, 0 to 1196\n",
      "Data columns (total 5 columns):\n",
      " #   Column         Non-Null Count  Dtype \n",
      "---  ------         --------------  ----- \n",
      " 0   transactionId  1197 non-null   int64 \n",
      " 1   visitorId      1197 non-null   int64 \n",
      " 2   date           1197 non-null   object\n",
      " 3   revenue        1197 non-null   int64 \n",
      " 4   group          1197 non-null   object\n",
      "dtypes: int64(3), object(2)\n",
      "memory usage: 46.9+ KB\n"
     ]
    },
    {
     "data": {
      "text/plain": [
       "None"
      ]
     },
     "metadata": {},
     "output_type": "display_data"
    },
    {
     "name": "stdout",
     "output_type": "stream",
     "text": [
      "<class 'pandas.core.frame.DataFrame'>\n",
      "RangeIndex: 62 entries, 0 to 61\n",
      "Data columns (total 3 columns):\n",
      " #   Column    Non-Null Count  Dtype \n",
      "---  ------    --------------  ----- \n",
      " 0   date      62 non-null     object\n",
      " 1   group     62 non-null     object\n",
      " 2   visitors  62 non-null     int64 \n",
      "dtypes: int64(1), object(2)\n",
      "memory usage: 1.6+ KB\n"
     ]
    },
    {
     "data": {
      "text/plain": [
       "None"
      ]
     },
     "metadata": {},
     "output_type": "display_data"
    }
   ],
   "source": [
    "display(orders.info())\n",
    "display(visitors.info())"
   ]
  },
  {
   "cell_type": "code",
   "execution_count": 10,
   "metadata": {},
   "outputs": [
    {
     "name": "stdout",
     "output_type": "stream",
     "text": [
      "<class 'pandas.core.frame.DataFrame'>\n",
      "RangeIndex: 1197 entries, 0 to 1196\n",
      "Data columns (total 5 columns):\n",
      " #   Column         Non-Null Count  Dtype         \n",
      "---  ------         --------------  -----         \n",
      " 0   transactionId  1197 non-null   int64         \n",
      " 1   visitorId      1197 non-null   int64         \n",
      " 2   date           1197 non-null   datetime64[ns]\n",
      " 3   revenue        1197 non-null   int64         \n",
      " 4   group          1197 non-null   object        \n",
      "dtypes: datetime64[ns](1), int64(3), object(1)\n",
      "memory usage: 46.9+ KB\n"
     ]
    },
    {
     "name": "stderr",
     "output_type": "stream",
     "text": [
      "/var/folders/3w/djhb641n4kv_gm7fb04b71l00000gn/T/ipykernel_76853/2385982033.py:1: UserWarning: The argument 'infer_datetime_format' is deprecated and will be removed in a future version. A strict version of it is now the default, see https://pandas.pydata.org/pdeps/0004-consistent-to-datetime-parsing.html. You can safely remove this argument.\n",
      "  orders ['date'] = pd.to_datetime (orders ['date'], infer_datetime_format=True)\n",
      "/var/folders/3w/djhb641n4kv_gm7fb04b71l00000gn/T/ipykernel_76853/2385982033.py:2: UserWarning: The argument 'infer_datetime_format' is deprecated and will be removed in a future version. A strict version of it is now the default, see https://pandas.pydata.org/pdeps/0004-consistent-to-datetime-parsing.html. You can safely remove this argument.\n",
      "  visitors ['date'] = pd.to_datetime (visitors ['date'], infer_datetime_format=True)\n"
     ]
    },
    {
     "data": {
      "text/plain": [
       "None"
      ]
     },
     "metadata": {},
     "output_type": "display_data"
    },
    {
     "name": "stdout",
     "output_type": "stream",
     "text": [
      "<class 'pandas.core.frame.DataFrame'>\n",
      "RangeIndex: 62 entries, 0 to 61\n",
      "Data columns (total 3 columns):\n",
      " #   Column    Non-Null Count  Dtype         \n",
      "---  ------    --------------  -----         \n",
      " 0   date      62 non-null     datetime64[ns]\n",
      " 1   group     62 non-null     object        \n",
      " 2   visitors  62 non-null     int64         \n",
      "dtypes: datetime64[ns](1), int64(1), object(1)\n",
      "memory usage: 1.6+ KB\n"
     ]
    },
    {
     "data": {
      "text/plain": [
       "None"
      ]
     },
     "metadata": {},
     "output_type": "display_data"
    }
   ],
   "source": [
    "orders ['date'] = pd.to_datetime (orders ['date'], infer_datetime_format=True)\n",
    "visitors ['date'] = pd.to_datetime (visitors ['date'], infer_datetime_format=True)\n",
    "display(orders.info())\n",
    "display(visitors.info())"
   ]
  },
  {
   "cell_type": "code",
   "execution_count": 11,
   "metadata": {},
   "outputs": [
    {
     "name": "stdout",
     "output_type": "stream",
     "text": [
      "Duplicates:\n"
     ]
    },
    {
     "data": {
      "text/plain": [
       "0"
      ]
     },
     "metadata": {},
     "output_type": "display_data"
    },
    {
     "data": {
      "text/plain": [
       "0"
      ]
     },
     "metadata": {},
     "output_type": "display_data"
    },
    {
     "name": "stdout",
     "output_type": "stream",
     "text": [
      "\n",
      "Missing values:\n"
     ]
    },
    {
     "data": {
      "text/plain": [
       "transactionId    0\n",
       "visitorId        0\n",
       "date             0\n",
       "revenue          0\n",
       "group            0\n",
       "dtype: int64"
      ]
     },
     "metadata": {},
     "output_type": "display_data"
    },
    {
     "data": {
      "text/plain": [
       "date        0\n",
       "group       0\n",
       "visitors    0\n",
       "dtype: int64"
      ]
     },
     "metadata": {},
     "output_type": "display_data"
    }
   ],
   "source": [
    "print('Duplicates:')\n",
    "display(orders.duplicated().sum())\n",
    "display(visitors.duplicated().sum())\n",
    "\n",
    "print ()\n",
    "print('Missing values:')\n",
    "display(orders.isna().sum())\n",
    "display(visitors.isna().sum())\n",
    "\n"
   ]
  },
  {
   "cell_type": "code",
   "execution_count": 12,
   "metadata": {},
   "outputs": [
    {
     "data": {
      "text/html": [
       "<div>\n",
       "<style scoped>\n",
       "    .dataframe tbody tr th:only-of-type {\n",
       "        vertical-align: middle;\n",
       "    }\n",
       "\n",
       "    .dataframe tbody tr th {\n",
       "        vertical-align: top;\n",
       "    }\n",
       "\n",
       "    .dataframe thead th {\n",
       "        text-align: right;\n",
       "    }\n",
       "</style>\n",
       "<table border=\"1\" class=\"dataframe\">\n",
       "  <thead>\n",
       "    <tr style=\"text-align: right;\">\n",
       "      <th>group</th>\n",
       "      <th>visitorId</th>\n",
       "      <th>A</th>\n",
       "      <th>B</th>\n",
       "    </tr>\n",
       "  </thead>\n",
       "  <tbody>\n",
       "    <tr>\n",
       "      <th>0</th>\n",
       "      <td>4256040402</td>\n",
       "      <td>7.0</td>\n",
       "      <td>4.0</td>\n",
       "    </tr>\n",
       "    <tr>\n",
       "      <th>1</th>\n",
       "      <td>2458001652</td>\n",
       "      <td>5.0</td>\n",
       "      <td>6.0</td>\n",
       "    </tr>\n",
       "    <tr>\n",
       "      <th>2</th>\n",
       "      <td>2038680547</td>\n",
       "      <td>5.0</td>\n",
       "      <td>3.0</td>\n",
       "    </tr>\n",
       "    <tr>\n",
       "      <th>3</th>\n",
       "      <td>2378935119</td>\n",
       "      <td>4.0</td>\n",
       "      <td>5.0</td>\n",
       "    </tr>\n",
       "    <tr>\n",
       "      <th>4</th>\n",
       "      <td>199603092</td>\n",
       "      <td>4.0</td>\n",
       "      <td>1.0</td>\n",
       "    </tr>\n",
       "    <tr>\n",
       "      <th>...</th>\n",
       "      <td>...</td>\n",
       "      <td>...</td>\n",
       "      <td>...</td>\n",
       "    </tr>\n",
       "    <tr>\n",
       "      <th>1026</th>\n",
       "      <td>4251115836</td>\n",
       "      <td>NaN</td>\n",
       "      <td>1.0</td>\n",
       "    </tr>\n",
       "    <tr>\n",
       "      <th>1027</th>\n",
       "      <td>4258103007</td>\n",
       "      <td>NaN</td>\n",
       "      <td>1.0</td>\n",
       "    </tr>\n",
       "    <tr>\n",
       "      <th>1028</th>\n",
       "      <td>4279090005</td>\n",
       "      <td>NaN</td>\n",
       "      <td>1.0</td>\n",
       "    </tr>\n",
       "    <tr>\n",
       "      <th>1029</th>\n",
       "      <td>4281247801</td>\n",
       "      <td>NaN</td>\n",
       "      <td>1.0</td>\n",
       "    </tr>\n",
       "    <tr>\n",
       "      <th>1030</th>\n",
       "      <td>4283872382</td>\n",
       "      <td>NaN</td>\n",
       "      <td>1.0</td>\n",
       "    </tr>\n",
       "  </tbody>\n",
       "</table>\n",
       "<p>1031 rows × 3 columns</p>\n",
       "</div>"
      ],
      "text/plain": [
       "group   visitorId    A    B\n",
       "0      4256040402  7.0  4.0\n",
       "1      2458001652  5.0  6.0\n",
       "2      2038680547  5.0  3.0\n",
       "3      2378935119  4.0  5.0\n",
       "4      199603092   4.0  1.0\n",
       "...          ...   ...  ...\n",
       "1026   4251115836 NaN   1.0\n",
       "1027   4258103007 NaN   1.0\n",
       "1028   4279090005 NaN   1.0\n",
       "1029   4281247801 NaN   1.0\n",
       "1030   4283872382 NaN   1.0\n",
       "\n",
       "[1031 rows x 3 columns]"
      ]
     },
     "execution_count": 12,
     "metadata": {},
     "output_type": "execute_result"
    }
   ],
   "source": [
    "orders_grouped = orders.pivot_table(index =['visitorId'], columns = 'group',values = 'transactionId',aggfunc='count').sort_values(by =['A','B'], ascending=False).reset_index()\n",
    "orders_grouped"
   ]
  },
  {
   "cell_type": "markdown",
   "metadata": {},
   "source": [
    "In this section, A/B tests data were loaded and checked - the data type of the date columns was corrected, duplicates and missing values were checked. The orders table contains users who fell into both groups, since these users have already fallen into the visitors table in aggregated form, it will be difficult to extract them, so we leave everything in its original form."
   ]
  },
  {
   "cell_type": "code",
   "execution_count": 13,
   "metadata": {},
   "outputs": [
    {
     "name": "stdout",
     "output_type": "stream",
     "text": [
      "        date group  orders  buyers  revenue  visitors\n",
      "0 2019-08-01  A     24      20      148579   719     \n",
      "1 2019-08-01  B     21      20      101217   713     \n",
      "2 2019-08-02  A     44      38      242401   1338    \n",
      "3 2019-08-02  B     45      43      266748   1294    \n",
      "4 2019-08-03  A     68      62      354874   1845    \n"
     ]
    }
   ],
   "source": [
    "datesGroups = orders[['date','group']].drop_duplicates()\n",
    "ordersAggregated = datesGroups.apply(\n",
    "    lambda x: orders[np.logical_and(orders['date'] <= x['date'], orders['group'] == x['group'])].agg({\n",
    "'date' : 'max',\n",
    "'group' : 'max',\n",
    "'transactionId' : pd.Series.nunique,\n",
    "'visitorId' : pd.Series.nunique,\n",
    "        'revenue' : 'sum'}), axis=1).sort_values(by=['date','group']) \n",
    "visitorsAggregated = datesGroups.apply(lambda x: visitors[np.logical_and(visitors['date'] <= x['date'], visitors['group'] == x['group'])].agg({'date' : 'max', 'group' : 'max', 'visitors' : 'sum'}), axis=1).sort_values(by=['date','group'])\n",
    "\n",
    "cumulativeData = ordersAggregated.merge(visitorsAggregated, left_on=['date', 'group'], right_on=['date', 'group'])\n",
    "cumulativeData.columns = ['date', 'group', 'orders', 'buyers', 'revenue', 'visitors']\n",
    "\n",
    "print(cumulativeData.head(5)) "
   ]
  },
  {
   "cell_type": "code",
   "execution_count": 14,
   "metadata": {},
   "outputs": [
    {
     "data": {
      "image/png": "[encoded data removed]",
      "text/plain": [
       "<Figure size 640x480 with 1 Axes>"
      ]
     },
     "metadata": {},
     "output_type": "display_data"
    }
   ],
   "source": [
    "#cumulative revenue graph \n",
    "cumulativeRevenueA = cumulativeData[cumulativeData['group']=='A'][['date','revenue', 'orders']]\n",
    "\n",
    "\n",
    "cumulativeRevenueB = cumulativeData[cumulativeData['group']=='B'][['date','revenue', 'orders']]\n",
    "\n",
    "\n",
    "plt.plot(cumulativeRevenueA['date'], cumulativeRevenueA['revenue'], label='A')\n",
    "\n",
    "\n",
    "plt.plot(cumulativeRevenueB['date'], cumulativeRevenueB['revenue'], label='B')\n",
    "plt.title('Cumulative revenue graph')\n",
    "plt.xlabel('Revenue')\n",
    "plt.ylabel('Date')\n",
    "plt.xticks(rotation=45)\n",
    "plt.legend()\n",
    "plt.show()"
   ]
  },
  {
   "cell_type": "markdown",
   "metadata": {},
   "source": [
    "Revenue increases almost uniformly throughout the test, but Group B has a sharp spike - this may signal outliers."
   ]
  },
  {
   "cell_type": "code",
   "execution_count": 15,
   "metadata": {},
   "outputs": [
    {
     "data": {
      "image/png": "[encoded data removed]",
      "text/plain": [
       "<Figure size 640x480 with 1 Axes>"
      ]
     },
     "metadata": {},
     "output_type": "display_data"
    }
   ],
   "source": [
    "# cumulative Average Order Value graph\n",
    "plt.plot(cumulativeRevenueA['date'], cumulativeRevenueA['revenue']/cumulativeRevenueA['orders'], label='A')\n",
    "plt.plot(cumulativeRevenueB['date'], cumulativeRevenueB['revenue']/cumulativeRevenueB['orders'], label='B')\n",
    "plt.legend() \n",
    "plt.title('Cumulative Average Order Value graph')\n",
    "plt.xlabel('Average Order Value')\n",
    "plt.ylabel('Date')\n",
    "plt.xticks(rotation=45)\n",
    "plt.legend()\n",
    "plt.show()"
   ]
  },
  {
   "cell_type": "markdown",
   "metadata": {},
   "source": [
    "Average Order Value for group  А jumped at the beginning, but then stabilized. But in group B, again, a big surge is visible closer to the end."
   ]
  },
  {
   "cell_type": "code",
   "execution_count": 16,
   "metadata": {},
   "outputs": [
    {
     "data": {
      "image/png": "[encoded data removed]",
      "text/plain": [
       "<Figure size 640x480 with 1 Axes>"
      ]
     },
     "metadata": {},
     "output_type": "display_data"
    }
   ],
   "source": [
    "#relative change in the cumulative Average Order Value from group B to group A graph\n",
    "mergedCumulativeRevenue = cumulativeRevenueA.merge(cumulativeRevenueB, left_on='date', right_on='date', how='left', suffixes=['A', 'B'])\n",
    "\n",
    "\n",
    "plt.plot(mergedCumulativeRevenue['date'], (mergedCumulativeRevenue['revenueB']/mergedCumulativeRevenue['ordersB'])/(mergedCumulativeRevenue['revenueA']/mergedCumulativeRevenue['ordersA'])-1)\n",
    "plt.title('Relative change in the cumulative Average Order Value from group B to group A')\n",
    "plt.xticks(rotation=45)\n",
    "plt.axhline(y=0, color='black', linestyle='--')\n",
    "plt.show()\n",
    "\n"
   ]
  },
  {
   "cell_type": "markdown",
   "metadata": {},
   "source": [
    "There are strong spikes at several points, which means there are outliers and large orders."
   ]
  },
  {
   "cell_type": "code",
   "execution_count": 17,
   "metadata": {},
   "outputs": [
    {
     "data": {
      "image/png": "[encoded data removed]",
      "text/plain": [
       "<Figure size 640x480 with 1 Axes>"
      ]
     },
     "metadata": {},
     "output_type": "display_data"
    }
   ],
   "source": [
    "# calculate average number of orders per users\n",
    "cumulativeData['conversion'] = cumulativeData['orders']/cumulativeData['visitors']\n",
    "\n",
    "\n",
    "cumulativeDataA = cumulativeData[cumulativeData['group']=='A']\n",
    "\n",
    "\n",
    "cumulativeDataB = cumulativeData[cumulativeData['group']=='B']\n",
    "\n",
    "\n",
    "plt.plot(cumulativeDataA['date'], cumulativeDataA['conversion'], label='A')\n",
    "plt.plot(cumulativeDataB['date'], cumulativeDataB['conversion'], label='B')\n",
    "plt.title('Average number of orders per users fluctuations graph')\n",
    "plt.xticks(rotation=45)\n",
    "plt.legend()\n",
    "plt.show()\n"
   ]
  },
  {
   "cell_type": "markdown",
   "metadata": {},
   "source": [
    "Very strong fluctuations in both groups, especially at the beginning of the test, then the indicators of both groups level out."
   ]
  },
  {
   "cell_type": "code",
   "execution_count": 28,
   "metadata": {},
   "outputs": [
    {
     "data": {
      "image/png": "[encoded data removed]",
      "text/plain": [
       "<Figure size 640x480 with 1 Axes>"
      ]
     },
     "metadata": {},
     "output_type": "display_data"
    }
   ],
   "source": [
    "#relative change in the cumulative average number of orders per visitor from group B to group A\n",
    "cumulativeData['conversion'] = (\n",
    "    cumulativeData['orders'] / cumulativeData['visitors']\n",
    ")\n",
    "\n",
    "cumulativeDataA = cumulativeData[cumulativeData['group'] == 'A']\n",
    "cumulativeDataB = cumulativeData[cumulativeData['group'] == 'B']\n",
    "\n",
    "mergedCumulativeConversions = cumulativeDataA[['date','conversion']].merge(cumulativeDataB[['date','conversion']], left_on='date', right_on='date', how='left', suffixes=['A', 'B'])\n",
    "\n",
    "plt.plot(mergedCumulativeConversions['date'], mergedCumulativeConversions['conversionB']/mergedCumulativeConversions['conversionA']-1, label=\"Относительный прирост кумулятивного среднего количества заказов на посетителя группы B относительно группы A\")\n",
    "plt.title('Relative change in the cumulative average number of orders graph')\n",
    "plt.axhline(y=0, color='black', linestyle='--')\n",
    "plt.axhline(y=0.2, color='grey', linestyle='--')\n",
    "plt.xticks(rotation=45)\n",
    "plt.show()"
   ]
  },
  {
   "cell_type": "markdown",
   "metadata": {},
   "source": [
    "Strong fluctuations are visible, especially at the beginning of the test - in general, the ratio of the average number of orders per visitor has not yet been established, and it is impossible to draw any conclusions from the test at this time."
   ]
  },
  {
   "cell_type": "code",
   "execution_count": 30,
   "metadata": {},
   "outputs": [
    {
     "name": "stdout",
     "output_type": "stream",
     "text": [
      "          userId  orders\n",
      "1023  4256040402  11    \n",
      "591   2458001652  11    \n",
      "569   2378935119  9     \n",
      "487   2038680547  8     \n",
      "44    199603092   5     \n",
      "744   3062433592  5     \n",
      "55    237748145   5     \n",
      "917   3803269165  5     \n",
      "299   1230306981  5     \n",
      "897   3717692402  5     \n"
     ]
    },
    {
     "data": {
      "text/plain": [
       "Text(0.5, 1.0, 'Scatter plot of number of orders by user')"
      ]
     },
     "execution_count": 30,
     "metadata": {},
     "output_type": "execute_result"
    },
    {
     "data": {
      "image/png": "[encoded data removed]",
      "text/plain": [
       "<Figure size 640x480 with 1 Axes>"
      ]
     },
     "metadata": {},
     "output_type": "display_data"
    }
   ],
   "source": [
    "# Scatter plot of number of orders by user\n",
    "ordersByUsers = (\n",
    "    orders.groupby('visitorId', as_index=False)\n",
    "    .agg({'transactionId': 'nunique'})\n",
    ")\n",
    "ordersByUsers.columns = ['userId', 'orders']\n",
    "\n",
    "print(ordersByUsers.sort_values(by='orders', ascending=False).head(10))\n",
    "\n",
    "\n",
    "x_values = pd.Series(range(0, len(ordersByUsers)))\n",
    "plt.scatter(x_values, ordersByUsers['orders']) \n",
    "plt.title('Scatter plot of number of orders by user')\n"
   ]
  },
  {
   "cell_type": "code",
   "execution_count": 31,
   "metadata": {},
   "outputs": [
    {
     "name": "stdout",
     "output_type": "stream",
     "text": [
      "[2. 4.]\n"
     ]
    }
   ],
   "source": [
    "#95th and 99th percentiles of orders per user\n",
    "print(np.percentile(ordersByUsers['orders'], [95, 99])) "
   ]
  },
  {
   "cell_type": "markdown",
   "metadata": {},
   "source": [
    "There are a number of outlier orders, let's select the boundary of abnormal orders at the 95th percentile - 2."
   ]
  },
  {
   "cell_type": "code",
   "execution_count": 32,
   "metadata": {},
   "outputs": [
    {
     "data": {
      "text/plain": [
       "(0.0, 150000.0)"
      ]
     },
     "execution_count": 32,
     "metadata": {},
     "output_type": "execute_result"
    },
    {
     "data": {
      "image/png": "[encoded data removed]",
      "text/plain": [
       "<Figure size 640x480 with 1 Axes>"
      ]
     },
     "metadata": {},
     "output_type": "display_data"
    }
   ],
   "source": [
    "#scatter plot for revenues\n",
    "x_values = pd.Series(range(0, len(orders['revenue'])))\n",
    "plt.scatter(x_values, orders['revenue']) \n",
    "plt.ylim([0,150000])\n"
   ]
  },
  {
   "cell_type": "code",
   "execution_count": 22,
   "metadata": {
    "scrolled": true
   },
   "outputs": [
    {
     "name": "stdout",
     "output_type": "stream",
     "text": [
      "[28000.  58233.2]\n"
     ]
    }
   ],
   "source": [
    "print(np.percentile(orders['revenue'], [95, 99]))"
   ]
  },
  {
   "cell_type": "markdown",
   "metadata": {},
   "source": [
    "Again, there are several more expensive orders, let's choose the 28,000 limit."
   ]
  },
  {
   "cell_type": "code",
   "execution_count": 33,
   "metadata": {},
   "outputs": [
    {
     "name": "stdout",
     "output_type": "stream",
     "text": [
      "        date  ordersPerDateA  revenuePerDateA  ordersPerDateB  \\\n",
      "0 2019-08-01  24              148579           21               \n",
      "1 2019-08-02  20              93822            24               \n",
      "2 2019-08-03  24              112473           16               \n",
      "3 2019-08-04  16              70825            17               \n",
      "4 2019-08-05  25              124218           23               \n",
      "\n",
      "   revenuePerDateB  ordersCummulativeA  revenueCummulativeA  \\\n",
      "0  101217           24                  148579                \n",
      "1  165531           44                  242401                \n",
      "2  114248           68                  354874                \n",
      "3  108571           84                  425699                \n",
      "4  92428            109                 549917                \n",
      "\n",
      "   ordersCummulativeB  revenueCummulativeB  visitorsPerDateA  \\\n",
      "0  21                  101217               719                \n",
      "1  45                  266748               619                \n",
      "2  61                  380996               507                \n",
      "3  78                  489567               717                \n",
      "4  101                 581995               756                \n",
      "\n",
      "   visitorsPerDateB  visitorsCummulativeA  visitorsCummulativeB  \n",
      "0  713               719                   713                   \n",
      "1  581               1338                  1294                  \n",
      "2  509               1845                  1803                  \n",
      "3  770               2562                  2573                  \n",
      "4  707               3318                  3280                  \n",
      "0.02321\n",
      "0.138\n"
     ]
    }
   ],
   "source": [
    "# calculation the statistical significance of differences in the average number of orders per visitor between groups using raw data\n",
    "visitorsADaily = visitors[visitors['group'] == 'A'][['date', 'visitors']]\n",
    "visitorsADaily.columns = ['date', 'visitorsPerDateA']\n",
    "\n",
    "visitorsACummulative = visitorsADaily.apply(\n",
    "    lambda x: visitorsADaily[visitorsADaily['date'] <= x['date']].agg(\n",
    "        {'date': 'max', 'visitorsPerDateA': 'sum'}\n",
    "    ),\n",
    "    axis=1,\n",
    ")\n",
    "visitorsACummulative.columns = ['date', 'visitorsCummulativeA']\n",
    "\n",
    "visitorsBDaily = visitors[visitors['group'] == 'B'][['date', 'visitors']]\n",
    "visitorsBDaily.columns = ['date', 'visitorsPerDateB']\n",
    "\n",
    "visitorsBCummulative = visitorsBDaily.apply(\n",
    "    lambda x: visitorsBDaily[visitorsBDaily['date'] <= x['date']].agg(\n",
    "        {'date': 'max', 'visitorsPerDateB': 'sum'}\n",
    "    ),\n",
    "    axis=1,\n",
    ")\n",
    "visitorsBCummulative.columns = ['date', 'visitorsCummulativeB']\n",
    "\n",
    "ordersADaily = (\n",
    "    orders[orders['group'] == 'A'][['date', 'transactionId', 'visitorId', 'revenue']]\n",
    "    .groupby('date', as_index=False)\n",
    "    .agg({'transactionId': pd.Series.nunique, 'revenue': 'sum'})\n",
    ")\n",
    "ordersADaily.columns = ['date', 'ordersPerDateA', 'revenuePerDateA']\n",
    "\n",
    "ordersACummulative = ordersADaily.apply(\n",
    "    lambda x: ordersADaily[ordersADaily['date'] <= x['date']].agg(\n",
    "        {'date': 'max', 'ordersPerDateA': 'sum', 'revenuePerDateA': 'sum'}\n",
    "    ),\n",
    "    axis=1,\n",
    ").sort_values(by=['date'])\n",
    "ordersACummulative.columns = [\n",
    "    'date',\n",
    "    'ordersCummulativeA',\n",
    "    'revenueCummulativeA',\n",
    "]\n",
    "\n",
    "ordersBDaily = (\n",
    "    orders[orders['group'] == 'B'][['date', 'transactionId', 'visitorId', 'revenue']]\n",
    "    .groupby('date', as_index=False)\n",
    "    .agg({'transactionId': pd.Series.nunique, 'revenue': 'sum'})\n",
    ")\n",
    "ordersBDaily.columns = ['date', 'ordersPerDateB', 'revenuePerDateB']\n",
    "\n",
    "ordersBCummulative = ordersBDaily.apply(\n",
    "    lambda x: ordersBDaily[ordersBDaily['date'] <= x['date']].agg(\n",
    "        {'date': 'max', 'ordersPerDateB': 'sum', 'revenuePerDateB': 'sum'}\n",
    "    ),\n",
    "    axis=1,\n",
    ").sort_values(by=['date'])\n",
    "ordersBCummulative.columns = [\n",
    "    'date',\n",
    "    'ordersCummulativeB',\n",
    "    'revenueCummulativeB',\n",
    "]\n",
    "\n",
    "data = (\n",
    "    ordersADaily.merge(\n",
    "        ordersBDaily, left_on='date', right_on='date', how='left'\n",
    "    )\n",
    "    .merge(ordersACummulative, left_on='date', right_on='date', how='left')\n",
    "    .merge(ordersBCummulative, left_on='date', right_on='date', how='left')\n",
    "    .merge(visitorsADaily, left_on='date', right_on='date', how='left')\n",
    "    .merge(visitorsBDaily, left_on='date', right_on='date', how='left')\n",
    "    .merge(visitorsACummulative, left_on='date', right_on='date', how='left')\n",
    "    .merge(visitorsBCummulative, left_on='date', right_on='date', how='left')\n",
    ")\n",
    "\n",
    "print(data.head(5))\n",
    "\n",
    "ordersByUsersA = (\n",
    "    orders[orders['group'] == 'A']\n",
    "    .groupby('transactionId', as_index=False)\n",
    "    .agg({'visitorId': pd.Series.nunique})\n",
    ")\n",
    "ordersByUsersA.columns = ['userId', 'orders']\n",
    "\n",
    "ordersByUsersB = (\n",
    "    orders[orders['group'] == 'B']\n",
    "    .groupby('transactionId', as_index=False)\n",
    "    .agg({'visitorId': pd.Series.nunique})\n",
    ")\n",
    "ordersByUsersB.columns = ['userId', 'orders']\n",
    "\n",
    "sampleA = pd.concat(\n",
    "    [\n",
    "        ordersByUsersA['orders'],\n",
    "        pd.Series(\n",
    "            0,\n",
    "            index=np.arange(\n",
    "                data['visitorsPerDateA'].sum() - len(ordersByUsersA['orders'])\n",
    "            ),\n",
    "            name='orders',\n",
    "        ),\n",
    "    ],\n",
    "    axis=0,\n",
    ")\n",
    "\n",
    "sampleB = pd.concat(\n",
    "    [\n",
    "        ordersByUsersB['orders'],\n",
    "        pd.Series(\n",
    "            0,\n",
    "            index=np.arange(\n",
    "                data['visitorsPerDateB'].sum() - len(ordersByUsersB['orders'])\n",
    "            ),\n",
    "            name='orders',\n",
    "        ),\n",
    "    ],\n",
    "    axis=0,\n",
    ")\n",
    "\n",
    "print(\"{0:.5f}\".format(st.mannwhitneyu(sampleA, sampleB)[1]))\n",
    "\n",
    "print(\"{0:.3f}\".format(sampleB.mean() / sampleA.mean() - 1))"
   ]
  },
  {
   "cell_type": "markdown",
   "metadata": {},
   "source": [
    "Null hypothesis: There are no differences in the average number of orders per visitor between the groups\n",
    "\n",
    "Alternative hypothesis: There are differences in the average number of orders per visitor between the groups\n",
    "\n",
    "Statistical significance level - 95%\n",
    "\n",
    "Mann-Whitney test\n",
    "\n",
    "Conclusion: P-value is less than 0.05, so we reject the null hypothesis, there is a statistical difference. The relative increase in the average number of orders of group B to group A is 13.8%."
   ]
  },
  {
   "cell_type": "code",
   "execution_count": 34,
   "metadata": {},
   "outputs": [
    {
     "name": "stdout",
     "output_type": "stream",
     "text": [
      "0.729\n",
      "0.259\n"
     ]
    }
   ],
   "source": [
    "#calculate the statistical significance of differences in the average order value between groups using \"raw\" data\n",
    "print('{0:.3f}'.format(st.mannwhitneyu(orders[orders['group']=='A']['revenue'], orders[orders['group']=='B']['revenue'])[1]))\n",
    "print('{0:.3f}'.format(orders[orders['group']=='B']['revenue'].mean()/orders[orders['group']=='A']['revenue'].mean()-1))"
   ]
  },
  {
   "cell_type": "markdown",
   "metadata": {},
   "source": [
    "Null hypothesis: There are no differences in the average check per visitor between the groups\n",
    "\n",
    "Alternative hypothesis: There are differences in the average check per visitor between the groups\n",
    "\n",
    "Statistical significance level - 95%\n",
    "\n",
    "Mann-Whitney test\n",
    "\n",
    "Conclusion: P-value is greater than 0.05, so we do not reject the null hypothesis. The relative increase in the average number of orders of group B to group A is 25.9%."
   ]
  },
  {
   "cell_type": "code",
   "execution_count": 35,
   "metadata": {},
   "outputs": [
    {
     "name": "stdout",
     "output_type": "stream",
     "text": [
      "1099    148427295\n",
      "18      199603092\n",
      "928     204675465\n",
      "23      237748145\n",
      "37      249864742\n",
      "dtype: int64\n"
     ]
    }
   ],
   "source": [
    "#clean the data from abnormal users\n",
    "ordersByUsersA = (\n",
    "    orders[orders['group'] == 'A']\n",
    "    .groupby('visitorId', as_index=False)\n",
    "    .agg({'transactionId': pd.Series.nunique})\n",
    ")\n",
    "ordersByUsersA.columns = ['userId', 'orders']\n",
    "\n",
    "ordersByUsersB = (\n",
    "    orders[orders['group'] == 'B']\n",
    "    .groupby('visitorId', as_index=False)\n",
    "    .agg({'transactionId': pd.Series.nunique})\n",
    ")\n",
    "ordersByUsersB.columns = ['userId', 'orders']\n",
    "usersWithManyOrders = pd.concat(\n",
    "    [\n",
    "        ordersByUsersA[ordersByUsersA['orders'] > 2]['userId'],\n",
    "        ordersByUsersB[ordersByUsersB['orders'] > 2]['userId'],\n",
    "    ],\n",
    "    axis=0,\n",
    ")\n",
    "usersWithExpensiveOrders = orders[orders['revenue'] > 28000]['visitorId']\n",
    "abnormalUsers = (\n",
    "    pd.concat([usersWithManyOrders, usersWithExpensiveOrders], axis=0)\n",
    "    .drop_duplicates()\n",
    "    .sort_values()\n",
    ")\n",
    "print(abnormalUsers.head(5))"
   ]
  },
  {
   "cell_type": "code",
   "execution_count": 36,
   "metadata": {},
   "outputs": [
    {
     "name": "stdout",
     "output_type": "stream",
     "text": [
      "0.01304\n",
      "0.173\n"
     ]
    }
   ],
   "source": [
    "# calculation the statistical significance of differences in the average number of orders per visitor between groups using cleaned data\n",
    "visitorsADaily = visitors[visitors['group'] == 'A'][['date', 'visitors']]\n",
    "visitorsADaily.columns = ['date', 'visitorsPerDateA']\n",
    "\n",
    "visitorsACummulative = visitorsADaily.apply(\n",
    "    lambda x: visitorsADaily[visitorsADaily['date'] <= x['date']].agg(\n",
    "        {'date': 'max', 'visitorsPerDateA': 'sum'}\n",
    "    ),\n",
    "    axis=1,\n",
    ")\n",
    "visitorsACummulative.columns = ['date', 'visitorsCummulativeA']\n",
    "\n",
    "visitorsBDaily = visitors[visitors['group'] == 'B'][['date', 'visitors']]\n",
    "visitorsBDaily.columns = ['date', 'visitorsPerDateB']\n",
    "\n",
    "visitorsBCummulative = visitorsBDaily.apply(\n",
    "    lambda x: visitorsBDaily[visitorsBDaily['date'] <= x['date']].agg(\n",
    "        {'date': 'max', 'visitorsPerDateB': 'sum'}\n",
    "    ),\n",
    "    axis=1,\n",
    ")\n",
    "visitorsBCummulative.columns = ['date', 'visitorsCummulativeB']\n",
    "\n",
    "ordersADaily = (\n",
    "    orders[orders['group'] == 'A'][['date', 'transactionId', 'visitorId', 'revenue']]\n",
    "    .groupby('date', as_index=False)\n",
    "    .agg({'transactionId': pd.Series.nunique, 'revenue': 'sum'})\n",
    ")\n",
    "ordersADaily.columns = ['date', 'ordersPerDateA', 'revenuePerDateA']\n",
    "\n",
    "ordersACummulative = ordersADaily.apply(\n",
    "    lambda x: ordersADaily[ordersADaily['date'] <= x['date']].agg(\n",
    "        {'date': 'max', 'ordersPerDateA': 'sum', 'revenuePerDateA': 'sum'}\n",
    "    ),\n",
    "    axis=1,\n",
    ").sort_values(by=['date'])\n",
    "ordersACummulative.columns = [\n",
    "    'date',\n",
    "    'ordersCummulativeA',\n",
    "    'revenueCummulativeA',\n",
    "]\n",
    "\n",
    "ordersBDaily = (\n",
    "    orders[orders['group'] == 'B'][['date', 'transactionId', 'visitorId', 'revenue']]\n",
    "    .groupby('date', as_index=False)\n",
    "    .agg({'transactionId': pd.Series.nunique, 'revenue': 'sum'})\n",
    ")\n",
    "ordersBDaily.columns = ['date', 'ordersPerDateB', 'revenuePerDateB']\n",
    "\n",
    "ordersBCummulative = ordersBDaily.apply(\n",
    "    lambda x: ordersBDaily[ordersBDaily['date'] <= x['date']].agg(\n",
    "        {'date': 'max', 'ordersPerDateB': 'sum', 'revenuePerDateB': 'sum'}\n",
    "    ),\n",
    "    axis=1,\n",
    ").sort_values(by=['date'])\n",
    "ordersBCummulative.columns = [\n",
    "    'date',\n",
    "    'ordersCummulativeB',\n",
    "    'revenueCummulativeB',\n",
    "]\n",
    "\n",
    "data = (\n",
    "    ordersADaily.merge(\n",
    "        ordersBDaily, left_on='date', right_on='date', how='left'\n",
    "    )\n",
    "    .merge(ordersACummulative, left_on='date', right_on='date', how='left')\n",
    "    .merge(ordersBCummulative, left_on='date', right_on='date', how='left')\n",
    "    .merge(visitorsADaily, left_on='date', right_on='date', how='left')\n",
    "    .merge(visitorsBDaily, left_on='date', right_on='date', how='left')\n",
    "    .merge(visitorsACummulative, left_on='date', right_on='date', how='left')\n",
    "    .merge(visitorsBCummulative, left_on='date', right_on='date', how='left')\n",
    ")\n",
    "\n",
    "ordersByUsersA = (\n",
    "    orders[orders['group'] == 'A']\n",
    "    .groupby('visitorId', as_index=False)\n",
    "    .agg({'transactionId': pd.Series.nunique})\n",
    ")\n",
    "ordersByUsersA.columns = ['userId', 'orders']\n",
    "\n",
    "ordersByUsersB = (\n",
    "    orders[orders['group'] == 'B']\n",
    "    .groupby('visitorId', as_index=False)\n",
    "    .agg({'transactionId': pd.Series.nunique})\n",
    ")\n",
    "ordersByUsersB.columns = ['userId', 'orders']\n",
    "\n",
    "\n",
    "usersWithManyOrders = pd.concat(\n",
    "    [\n",
    "        ordersByUsersA[ordersByUsersA['orders'] > 2]['userId'],\n",
    "        ordersByUsersB[ordersByUsersB['orders'] > 2]['userId'],\n",
    "    ],\n",
    "    axis=0,\n",
    ")\n",
    "usersWithExpensiveOrders = orders[orders['revenue'] > 28000]['visitorId']\n",
    "abnormalUsers = (\n",
    "    pd.concat([usersWithManyOrders, usersWithExpensiveOrders], axis=0)\n",
    "    .drop_duplicates()\n",
    "    .sort_values()\n",
    ")\n",
    "sampleAFiltered = pd.concat(\n",
    "    [\n",
    "        ordersByUsersA[\n",
    "            np.logical_not(ordersByUsersA['userId'].isin(abnormalUsers))\n",
    "        ]['orders'],\n",
    "        pd.Series(\n",
    "            0,\n",
    "            index=np.arange(\n",
    "                data['visitorsPerDateA'].sum() - len(ordersByUsersA['orders'])\n",
    "            ),\n",
    "            name='orders',\n",
    "        ),\n",
    "    ],\n",
    "    axis=0,\n",
    ")\n",
    "\n",
    "sampleBFiltered = pd.concat(\n",
    "    [\n",
    "        ordersByUsersB[\n",
    "            np.logical_not(ordersByUsersB['userId'].isin(abnormalUsers))\n",
    "        ]['orders'],\n",
    "        pd.Series(\n",
    "            0,\n",
    "            index=np.arange(\n",
    "                data['visitorsPerDateB'].sum() - len(ordersByUsersB['orders'])\n",
    "            ),\n",
    "            name='orders',\n",
    "        ),\n",
    "    ],\n",
    "    axis=0,\n",
    ")\n",
    "print('{0:.5f}'.format(st.mannwhitneyu(sampleAFiltered, sampleBFiltered)[1]))\n",
    "print('{0:.3f}'.format(sampleBFiltered.mean()/sampleAFiltered.mean()-1))"
   ]
  },
  {
   "cell_type": "markdown",
   "metadata": {},
   "source": [
    "Null hypothesis: There are no differences in the average number of orders per visitor between the purified groups\n",
    "\n",
    "Alternative hypothesis: There are differences in the average number of orders per visitor between the purified groups\n",
    "\n",
    "Statistical significance level - 95%\n",
    "\n",
    "Mann-Whitney test\n",
    "\n",
    "Conclusion: P-value is less than 0.05, so we reject the null hypothesis, there is a statistical difference. The relative increase in the average number of orders of group B to group A is 17.3%."
   ]
  },
  {
   "cell_type": "code",
   "execution_count": 37,
   "metadata": {},
   "outputs": [
    {
     "name": "stdout",
     "output_type": "stream",
     "text": [
      "0.738\n",
      "-0.020\n"
     ]
    }
   ],
   "source": [
    "#calculate the statistical significance of differences in the average order value between groups using cleaned data\n",
    "print(\n",
    "    '{0:.3f}'.format(\n",
    "        st.mannwhitneyu(\n",
    "            orders[\n",
    "                np.logical_and(\n",
    "                    orders['group'] == 'A',\n",
    "                    np.logical_not(orders['visitorId'].isin(abnormalUsers)),\n",
    "                )\n",
    "            ]['revenue'],\n",
    "            orders[\n",
    "                np.logical_and(\n",
    "                    orders['group'] == 'B',\n",
    "                    np.logical_not(orders['visitorId'].isin(abnormalUsers)),\n",
    "                )\n",
    "            ]['revenue'],\n",
    "        )[1]\n",
    "    )\n",
    ")\n",
    "\n",
    "print(\n",
    "    \"{0:.3f}\".format(\n",
    "        orders[\n",
    "            np.logical_and(\n",
    "                orders['group'] == 'B',\n",
    "                np.logical_not(orders['visitorId'].isin(abnormalUsers)),\n",
    "            )\n",
    "        ]['revenue'].mean()\n",
    "        / orders[\n",
    "            np.logical_and(\n",
    "                orders['group'] == 'A',\n",
    "                np.logical_not(orders['visitorId'].isin(abnormalUsers)),\n",
    "            )\n",
    "        ]['revenue'].mean()\n",
    "        - 1\n",
    "    )\n",
    ")"
   ]
  },
  {
   "cell_type": "markdown",
   "metadata": {},
   "source": [
    "Null hypothesis: There are no differences in the average check per visitor between the purified groups\n",
    "\n",
    "Alternative hypothesis: There are differences in the average check per visitor between the purified groups\n",
    "\n",
    "Statistical significance level - 95%\n",
    "\n",
    "Mann-Whitney test\n",
    "\n",
    "Conclusion: P-value is greater than 0.05, so we do not reject the null hypothesis."
   ]
  },
  {
   "cell_type": "markdown",
   "metadata": {},
   "source": [
    "## Conclusion\n",
    "- with ICE framework, the leaders are hypotheses eight, zero and seven. With 'RICE' framework, the top three are hypotheses 7, 2 and 0. Hypothesis 2 is higher in the 'RICE framework because it has a high Reach indicator (as well as 7 and 0), but the eighth hypothesis flew out of the top three - it has a very low indicator.\n",
    "- before analyzing the A/B test results, the data was prepared - the data type of the 'date' columns was corrected, a check for duplicates and missing values was performed.\n",
    "- the analysis showed that there are statistically significant differences in the average number of orders per visitor between the groups (both on raw and cleaned data). On cleaned data, the relative increase in the average number of orders of group B to group A is 17.3%.\n",
    "- the analysis showed that it is impossible to reject the hypothesis that there is a statistical difference in the average check per visitor between the groups (both on raw and on cleaned data)\n",
    "\n",
    "The test results are indicative, the average number of orders increased in the absence of significant changes in the average check -> revenue increased, as people began to buy more often, the testing can be considered successful, stopped and moved on to other hypotheses."
   ]
  }
 ],
 "metadata": {
  "ExecuteTimeLog": [
   {
    "duration": 1572,
    "start_time": "2025-02-12T13:00:14.276Z"
   },
   {
    "duration": 71,
    "start_time": "2025-02-12T13:02:04.627Z"
   },
   {
    "duration": 22,
    "start_time": "2025-02-12T13:02:31.731Z"
   },
   {
    "duration": 17,
    "start_time": "2025-02-12T13:03:05.376Z"
   },
   {
    "duration": 16,
    "start_time": "2025-02-12T13:03:16.809Z"
   },
   {
    "duration": 9,
    "start_time": "2025-02-12T13:06:32.450Z"
   },
   {
    "duration": 84,
    "start_time": "2025-02-12T13:07:37.816Z"
   },
   {
    "duration": 8,
    "start_time": "2025-02-12T13:07:52.054Z"
   },
   {
    "duration": 82,
    "start_time": "2025-02-12T13:15:29.377Z"
   },
   {
    "duration": 18,
    "start_time": "2025-02-12T13:15:34.180Z"
   },
   {
    "duration": 16,
    "start_time": "2025-02-12T13:16:25.113Z"
   },
   {
    "duration": 8,
    "start_time": "2025-02-12T13:16:27.045Z"
   },
   {
    "duration": 548,
    "start_time": "2025-02-12T13:16:35.098Z"
   },
   {
    "duration": 301,
    "start_time": "2025-02-12T13:17:28.439Z"
   },
   {
    "duration": 304,
    "start_time": "2025-02-12T13:17:48.782Z"
   },
   {
    "duration": 3,
    "start_time": "2025-02-12T13:18:41.570Z"
   },
   {
    "duration": 436,
    "start_time": "2025-02-12T13:18:46.148Z"
   },
   {
    "duration": 58,
    "start_time": "2025-02-12T13:19:28.020Z"
   },
   {
    "duration": 30,
    "start_time": "2025-02-12T13:20:09.857Z"
   },
   {
    "duration": 267,
    "start_time": "2025-02-12T13:20:59.750Z"
   },
   {
    "duration": 252,
    "start_time": "2025-02-12T13:22:33.372Z"
   },
   {
    "duration": 250,
    "start_time": "2025-02-12T13:23:52.115Z"
   },
   {
    "duration": 381,
    "start_time": "2025-02-12T13:24:48.260Z"
   },
   {
    "duration": 274,
    "start_time": "2025-02-12T13:27:21.404Z"
   },
   {
    "duration": 264,
    "start_time": "2025-02-12T13:27:31.311Z"
   },
   {
    "duration": 408,
    "start_time": "2025-02-12T13:28:13.542Z"
   },
   {
    "duration": 9,
    "start_time": "2025-02-12T13:33:28.856Z"
   },
   {
    "duration": 126,
    "start_time": "2025-02-12T13:33:49.229Z"
   },
   {
    "duration": 4,
    "start_time": "2025-02-12T13:36:49.017Z"
   },
   {
    "duration": 5,
    "start_time": "2025-02-12T13:37:05.014Z"
   },
   {
    "duration": 131,
    "start_time": "2025-02-12T13:38:02.817Z"
   },
   {
    "duration": 4,
    "start_time": "2025-02-12T13:38:46.245Z"
   },
   {
    "duration": 415,
    "start_time": "2025-02-12T13:45:24.514Z"
   },
   {
    "duration": 342,
    "start_time": "2025-02-12T13:45:46.426Z"
   },
   {
    "duration": 10,
    "start_time": "2025-02-12T13:47:39.320Z"
   },
   {
    "duration": 11,
    "start_time": "2025-02-12T13:47:47.489Z"
   },
   {
    "duration": 873,
    "start_time": "2025-02-12T13:52:41.006Z"
   },
   {
    "duration": 1018,
    "start_time": "2025-02-12T13:53:08.221Z"
   },
   {
    "duration": 1049,
    "start_time": "2025-02-12T13:54:36.548Z"
   },
   {
    "duration": 141,
    "start_time": "2025-02-12T13:55:44.149Z"
   },
   {
    "duration": 213,
    "start_time": "2025-02-12T14:00:22.253Z"
   },
   {
    "duration": 376,
    "start_time": "2025-02-12T14:00:48.021Z"
   },
   {
    "duration": 13,
    "start_time": "2025-02-12T14:13:09.448Z"
   },
   {
    "duration": 1553,
    "start_time": "2025-02-14T13:03:47.182Z"
   },
   {
    "duration": 29,
    "start_time": "2025-02-14T13:03:48.737Z"
   },
   {
    "duration": 13,
    "start_time": "2025-02-14T13:03:48.767Z"
   },
   {
    "duration": 27,
    "start_time": "2025-02-14T13:03:48.782Z"
   },
   {
    "duration": 10,
    "start_time": "2025-02-14T13:03:48.811Z"
   },
   {
    "duration": 74,
    "start_time": "2025-02-14T13:03:48.822Z"
   },
   {
    "duration": 307,
    "start_time": "2025-02-14T13:03:48.898Z"
   },
   {
    "duration": 307,
    "start_time": "2025-02-14T13:03:49.206Z"
   },
   {
    "duration": 288,
    "start_time": "2025-02-14T13:03:49.514Z"
   },
   {
    "duration": 448,
    "start_time": "2025-02-14T13:03:49.804Z"
   },
   {
    "duration": 309,
    "start_time": "2025-02-14T13:03:50.253Z"
   },
   {
    "duration": 404,
    "start_time": "2025-02-14T13:03:50.564Z"
   },
   {
    "duration": 144,
    "start_time": "2025-02-14T13:03:50.970Z"
   },
   {
    "duration": 5,
    "start_time": "2025-02-14T13:03:51.117Z"
   },
   {
    "duration": 153,
    "start_time": "2025-02-14T13:03:51.132Z"
   },
   {
    "duration": 4,
    "start_time": "2025-02-14T13:03:51.287Z"
   },
   {
    "duration": 391,
    "start_time": "2025-02-14T13:03:51.293Z"
   },
   {
    "duration": 11,
    "start_time": "2025-02-14T13:03:51.685Z"
   },
   {
    "duration": 177,
    "start_time": "2025-02-14T13:03:51.698Z"
   },
   {
    "duration": 373,
    "start_time": "2025-02-14T13:03:51.877Z"
   },
   {
    "duration": 15,
    "start_time": "2025-02-14T13:03:52.252Z"
   },
   {
    "duration": 361,
    "start_time": "2025-02-14T13:20:54.394Z"
   },
   {
    "duration": 355,
    "start_time": "2025-02-14T13:30:45.954Z"
   },
   {
    "duration": 281,
    "start_time": "2025-02-14T13:31:00.622Z"
   },
   {
    "duration": 390,
    "start_time": "2025-02-14T13:31:13.822Z"
   },
   {
    "duration": 427,
    "start_time": "2025-02-14T13:40:19.114Z"
   },
   {
    "duration": 129,
    "start_time": "2025-02-14T13:42:25.877Z"
   },
   {
    "duration": 5,
    "start_time": "2025-02-14T13:44:15.815Z"
   },
   {
    "duration": 150,
    "start_time": "2025-02-14T13:45:02.926Z"
   },
   {
    "duration": 382,
    "start_time": "2025-02-14T13:46:35.714Z"
   },
   {
    "duration": 373,
    "start_time": "2025-02-14T14:00:21.274Z"
   },
   {
    "duration": 1667,
    "start_time": "2025-02-14T19:47:31.697Z"
   },
   {
    "duration": 27,
    "start_time": "2025-02-14T19:47:33.366Z"
   },
   {
    "duration": 12,
    "start_time": "2025-02-14T19:47:33.395Z"
   },
   {
    "duration": 10,
    "start_time": "2025-02-14T19:47:33.408Z"
   },
   {
    "duration": 27,
    "start_time": "2025-02-14T19:47:33.420Z"
   },
   {
    "duration": 67,
    "start_time": "2025-02-14T19:47:33.449Z"
   },
   {
    "duration": 305,
    "start_time": "2025-02-14T19:47:33.518Z"
   },
   {
    "duration": 332,
    "start_time": "2025-02-14T19:47:33.825Z"
   },
   {
    "duration": 290,
    "start_time": "2025-02-14T19:47:34.159Z"
   },
   {
    "duration": 474,
    "start_time": "2025-02-14T19:47:34.451Z"
   },
   {
    "duration": 300,
    "start_time": "2025-02-14T19:47:34.926Z"
   },
   {
    "duration": 405,
    "start_time": "2025-02-14T19:47:35.227Z"
   },
   {
    "duration": 139,
    "start_time": "2025-02-14T19:47:35.633Z"
   },
   {
    "duration": 4,
    "start_time": "2025-02-14T19:47:35.774Z"
   },
   {
    "duration": 159,
    "start_time": "2025-02-14T19:47:35.780Z"
   },
   {
    "duration": 4,
    "start_time": "2025-02-14T19:47:35.941Z"
   },
   {
    "duration": 373,
    "start_time": "2025-02-14T19:47:35.946Z"
   },
   {
    "duration": 11,
    "start_time": "2025-02-14T19:47:36.321Z"
   },
   {
    "duration": 173,
    "start_time": "2025-02-14T19:47:36.333Z"
   },
   {
    "duration": 358,
    "start_time": "2025-02-14T19:47:36.508Z"
   },
   {
    "duration": 15,
    "start_time": "2025-02-14T19:47:36.867Z"
   },
   {
    "duration": 1329,
    "start_time": "2025-02-14T19:59:36.852Z"
   },
   {
    "duration": 17,
    "start_time": "2025-02-14T19:59:38.183Z"
   },
   {
    "duration": 13,
    "start_time": "2025-02-14T19:59:38.202Z"
   },
   {
    "duration": 12,
    "start_time": "2025-02-14T19:59:38.217Z"
   },
   {
    "duration": 16,
    "start_time": "2025-02-14T19:59:38.233Z"
   },
   {
    "duration": 70,
    "start_time": "2025-02-14T19:59:38.250Z"
   },
   {
    "duration": 310,
    "start_time": "2025-02-14T19:59:38.322Z"
   },
   {
    "duration": 302,
    "start_time": "2025-02-14T19:59:38.634Z"
   },
   {
    "duration": 297,
    "start_time": "2025-02-14T19:59:38.938Z"
   },
   {
    "duration": 433,
    "start_time": "2025-02-14T19:59:39.238Z"
   },
   {
    "duration": 317,
    "start_time": "2025-02-14T19:59:39.672Z"
   },
   {
    "duration": 445,
    "start_time": "2025-02-14T19:59:39.999Z"
   },
   {
    "duration": 158,
    "start_time": "2025-02-14T19:59:40.448Z"
   },
   {
    "duration": 4,
    "start_time": "2025-02-14T19:59:40.609Z"
   },
   {
    "duration": 161,
    "start_time": "2025-02-14T19:59:40.615Z"
   },
   {
    "duration": 5,
    "start_time": "2025-02-14T19:59:40.778Z"
   },
   {
    "duration": 435,
    "start_time": "2025-02-14T19:59:40.785Z"
   },
   {
    "duration": 14,
    "start_time": "2025-02-14T19:59:41.222Z"
   },
   {
    "duration": 172,
    "start_time": "2025-02-14T19:59:41.238Z"
   },
   {
    "duration": 382,
    "start_time": "2025-02-14T19:59:41.412Z"
   },
   {
    "duration": 14,
    "start_time": "2025-02-14T19:59:41.796Z"
   },
   {
    "duration": 1394,
    "start_time": "2025-02-15T10:35:07.865Z"
   },
   {
    "duration": 17,
    "start_time": "2025-02-15T10:35:09.261Z"
   },
   {
    "duration": 17,
    "start_time": "2025-02-15T10:35:09.280Z"
   },
   {
    "duration": 10,
    "start_time": "2025-02-15T10:35:09.298Z"
   },
   {
    "duration": 8,
    "start_time": "2025-02-15T10:35:09.310Z"
   },
   {
    "duration": 56,
    "start_time": "2025-02-15T10:35:09.319Z"
   },
   {
    "duration": 278,
    "start_time": "2025-02-15T10:35:09.376Z"
   },
   {
    "duration": 273,
    "start_time": "2025-02-15T10:35:09.657Z"
   },
   {
    "duration": 262,
    "start_time": "2025-02-15T10:35:09.931Z"
   },
   {
    "duration": 393,
    "start_time": "2025-02-15T10:35:10.195Z"
   },
   {
    "duration": 281,
    "start_time": "2025-02-15T10:35:10.590Z"
   },
   {
    "duration": 387,
    "start_time": "2025-02-15T10:35:10.873Z"
   },
   {
    "duration": 125,
    "start_time": "2025-02-15T10:35:11.262Z"
   },
   {
    "duration": 4,
    "start_time": "2025-02-15T10:35:11.391Z"
   },
   {
    "duration": 230,
    "start_time": "2025-02-15T10:35:11.396Z"
   },
   {
    "duration": 4,
    "start_time": "2025-02-15T10:35:11.627Z"
   },
   {
    "duration": 378,
    "start_time": "2025-02-15T10:35:11.632Z"
   },
   {
    "duration": 11,
    "start_time": "2025-02-15T10:35:12.011Z"
   },
   {
    "duration": 149,
    "start_time": "2025-02-15T10:35:12.023Z"
   },
   {
    "duration": 365,
    "start_time": "2025-02-15T10:35:12.173Z"
   },
   {
    "duration": 21,
    "start_time": "2025-02-15T10:35:12.539Z"
   },
   {
    "duration": 11,
    "start_time": "2025-02-15T10:37:40.142Z"
   },
   {
    "duration": 20,
    "start_time": "2025-02-15T10:42:31.225Z"
   },
   {
    "duration": 24,
    "start_time": "2025-02-15T10:44:18.766Z"
   },
   {
    "duration": 15,
    "start_time": "2025-02-15T10:45:27.708Z"
   },
   {
    "duration": 255,
    "start_time": "2025-02-15T10:56:24.009Z"
   },
   {
    "duration": 278,
    "start_time": "2025-02-15T10:57:31.128Z"
   },
   {
    "duration": 276,
    "start_time": "2025-02-15T10:58:04.448Z"
   },
   {
    "duration": 478,
    "start_time": "2025-02-15T10:59:50.761Z"
   },
   {
    "duration": 378,
    "start_time": "2025-02-15T11:00:09.346Z"
   },
   {
    "duration": 306,
    "start_time": "2025-02-15T11:28:21.444Z"
   },
   {
    "duration": 1655,
    "start_time": "2025-02-18T12:42:36.780Z"
   },
   {
    "duration": 32,
    "start_time": "2025-02-18T12:42:38.437Z"
   },
   {
    "duration": 15,
    "start_time": "2025-02-18T12:42:38.472Z"
   },
   {
    "duration": 12,
    "start_time": "2025-02-18T12:42:38.494Z"
   },
   {
    "duration": 16,
    "start_time": "2025-02-18T12:42:38.509Z"
   },
   {
    "duration": 56,
    "start_time": "2025-02-18T12:42:38.527Z"
   },
   {
    "duration": 21,
    "start_time": "2025-02-18T12:42:38.585Z"
   },
   {
    "duration": 23,
    "start_time": "2025-02-18T12:42:38.607Z"
   },
   {
    "duration": 35,
    "start_time": "2025-02-18T12:42:38.631Z"
   },
   {
    "duration": 309,
    "start_time": "2025-02-18T12:42:38.668Z"
   },
   {
    "duration": 293,
    "start_time": "2025-02-18T12:42:38.978Z"
   },
   {
    "duration": 194,
    "start_time": "2025-02-18T12:42:39.273Z"
   },
   {
    "duration": 359,
    "start_time": "2025-02-18T12:42:39.469Z"
   },
   {
    "duration": 253,
    "start_time": "2025-02-18T12:42:39.830Z"
   },
   {
    "duration": 322,
    "start_time": "2025-02-18T12:42:40.085Z"
   },
   {
    "duration": 126,
    "start_time": "2025-02-18T12:42:40.408Z"
   },
   {
    "duration": 5,
    "start_time": "2025-02-18T12:42:40.535Z"
   },
   {
    "duration": 143,
    "start_time": "2025-02-18T12:42:40.541Z"
   },
   {
    "duration": 4,
    "start_time": "2025-02-18T12:42:40.686Z"
   },
   {
    "duration": 483,
    "start_time": "2025-02-18T12:42:40.692Z"
   },
   {
    "duration": 17,
    "start_time": "2025-02-18T12:42:41.177Z"
   },
   {
    "duration": 142,
    "start_time": "2025-02-18T12:42:41.196Z"
   },
   {
    "duration": 431,
    "start_time": "2025-02-18T12:42:41.339Z"
   },
   {
    "duration": 17,
    "start_time": "2025-02-18T12:42:41.773Z"
   },
   {
    "duration": 9,
    "start_time": "2025-02-18T12:45:09.305Z"
   },
   {
    "duration": 8,
    "start_time": "2025-02-18T12:45:33.608Z"
   },
   {
    "duration": 12,
    "start_time": "2025-02-18T12:46:21.527Z"
   },
   {
    "duration": 18,
    "start_time": "2025-02-18T12:46:28.682Z"
   },
   {
    "duration": 26,
    "start_time": "2025-02-18T12:50:03.247Z"
   },
   {
    "duration": 8,
    "start_time": "2025-02-18T12:53:09.805Z"
   },
   {
    "duration": 12,
    "start_time": "2025-02-18T12:53:27.852Z"
   },
   {
    "duration": 18,
    "start_time": "2025-02-18T12:54:16.734Z"
   },
   {
    "duration": 15,
    "start_time": "2025-02-18T12:54:47.425Z"
   },
   {
    "duration": 9,
    "start_time": "2025-02-18T12:55:07.742Z"
   },
   {
    "duration": 10,
    "start_time": "2025-02-18T12:55:35.957Z"
   },
   {
    "duration": 21,
    "start_time": "2025-02-18T12:55:49.124Z"
   },
   {
    "duration": 343,
    "start_time": "2025-02-18T13:08:14.876Z"
   },
   {
    "duration": 321,
    "start_time": "2025-02-18T13:08:23.615Z"
   },
   {
    "duration": 337,
    "start_time": "2025-02-18T13:08:41.882Z"
   },
   {
    "duration": 139,
    "start_time": "2025-02-18T13:09:18.998Z"
   },
   {
    "duration": 168,
    "start_time": "2025-02-18T13:09:28.329Z"
   },
   {
    "duration": 1778,
    "start_time": "2025-02-18T13:09:57.757Z"
   },
   {
    "duration": 18,
    "start_time": "2025-02-18T13:09:59.537Z"
   },
   {
    "duration": 16,
    "start_time": "2025-02-18T13:09:59.557Z"
   },
   {
    "duration": 17,
    "start_time": "2025-02-18T13:09:59.576Z"
   },
   {
    "duration": 19,
    "start_time": "2025-02-18T13:09:59.595Z"
   },
   {
    "duration": 76,
    "start_time": "2025-02-18T13:09:59.616Z"
   },
   {
    "duration": 23,
    "start_time": "2025-02-18T13:09:59.694Z"
   },
   {
    "duration": 28,
    "start_time": "2025-02-18T13:09:59.719Z"
   },
   {
    "duration": 27,
    "start_time": "2025-02-18T13:09:59.761Z"
   },
   {
    "duration": 40,
    "start_time": "2025-02-18T13:09:59.791Z"
   },
   {
    "duration": 402,
    "start_time": "2025-02-18T13:09:59.833Z"
   },
   {
    "duration": 362,
    "start_time": "2025-02-18T13:10:00.237Z"
   },
   {
    "duration": 253,
    "start_time": "2025-02-18T13:10:00.602Z"
   },
   {
    "duration": 333,
    "start_time": "2025-02-18T13:10:00.863Z"
   },
   {
    "duration": 232,
    "start_time": "2025-02-18T13:10:01.198Z"
   },
   {
    "duration": 397,
    "start_time": "2025-02-18T13:10:01.432Z"
   },
   {
    "duration": 169,
    "start_time": "2025-02-18T13:10:01.831Z"
   },
   {
    "duration": 5,
    "start_time": "2025-02-18T13:10:02.001Z"
   },
   {
    "duration": 201,
    "start_time": "2025-02-18T13:10:02.008Z"
   },
   {
    "duration": 5,
    "start_time": "2025-02-18T13:10:02.210Z"
   },
   {
    "duration": 577,
    "start_time": "2025-02-18T13:10:02.218Z"
   },
   {
    "duration": 10,
    "start_time": "2025-02-18T13:10:02.797Z"
   },
   {
    "duration": 312,
    "start_time": "2025-02-18T13:10:02.808Z"
   },
   {
    "duration": 475,
    "start_time": "2025-02-18T13:10:03.123Z"
   },
   {
    "duration": 19,
    "start_time": "2025-02-18T13:10:03.601Z"
   },
   {
    "duration": 18,
    "start_time": "2025-02-18T13:10:22.374Z"
   },
   {
    "duration": 178,
    "start_time": "2025-02-18T13:25:34.639Z"
   },
   {
    "duration": 1385,
    "start_time": "2025-02-18T13:43:43.358Z"
   },
   {
    "duration": 17,
    "start_time": "2025-02-18T13:43:44.745Z"
   },
   {
    "duration": 18,
    "start_time": "2025-02-18T13:43:44.764Z"
   },
   {
    "duration": 14,
    "start_time": "2025-02-18T13:43:44.784Z"
   },
   {
    "duration": 22,
    "start_time": "2025-02-18T13:43:44.800Z"
   },
   {
    "duration": 74,
    "start_time": "2025-02-18T13:43:44.824Z"
   },
   {
    "duration": 25,
    "start_time": "2025-02-18T13:43:44.900Z"
   },
   {
    "duration": 23,
    "start_time": "2025-02-18T13:43:44.927Z"
   },
   {
    "duration": 30,
    "start_time": "2025-02-18T13:43:44.951Z"
   },
   {
    "duration": 35,
    "start_time": "2025-02-18T13:43:44.984Z"
   },
   {
    "duration": 396,
    "start_time": "2025-02-18T13:43:45.021Z"
   },
   {
    "duration": 320,
    "start_time": "2025-02-18T13:43:45.418Z"
   },
   {
    "duration": 253,
    "start_time": "2025-02-18T13:43:45.740Z"
   },
   {
    "duration": 307,
    "start_time": "2025-02-18T13:43:45.997Z"
   },
   {
    "duration": 211,
    "start_time": "2025-02-18T13:43:46.306Z"
   },
   {
    "duration": 369,
    "start_time": "2025-02-18T13:43:46.518Z"
   },
   {
    "duration": 153,
    "start_time": "2025-02-18T13:43:46.888Z"
   },
   {
    "duration": 4,
    "start_time": "2025-02-18T13:43:47.043Z"
   },
   {
    "duration": 159,
    "start_time": "2025-02-18T13:43:47.049Z"
   },
   {
    "duration": 5,
    "start_time": "2025-02-18T13:43:47.209Z"
   },
   {
    "duration": 518,
    "start_time": "2025-02-18T13:43:47.216Z"
   },
   {
    "duration": 10,
    "start_time": "2025-02-18T13:43:47.736Z"
   },
   {
    "duration": 166,
    "start_time": "2025-02-18T13:43:47.747Z"
   },
   {
    "duration": 418,
    "start_time": "2025-02-18T13:43:47.915Z"
   },
   {
    "duration": 33,
    "start_time": "2025-02-18T13:43:48.335Z"
   },
   {
    "duration": 78,
    "start_time": "2025-02-18T13:53:46.593Z"
   },
   {
    "duration": 1319,
    "start_time": "2025-02-18T15:47:24.908Z"
   },
   {
    "duration": 17,
    "start_time": "2025-02-18T15:47:26.229Z"
   },
   {
    "duration": 12,
    "start_time": "2025-02-18T15:47:26.248Z"
   },
   {
    "duration": 19,
    "start_time": "2025-02-18T15:47:26.261Z"
   },
   {
    "duration": 13,
    "start_time": "2025-02-18T15:47:26.281Z"
   },
   {
    "duration": 123,
    "start_time": "2025-02-18T15:47:26.295Z"
   },
   {
    "duration": 20,
    "start_time": "2025-02-18T15:47:26.420Z"
   },
   {
    "duration": 22,
    "start_time": "2025-02-18T15:47:26.442Z"
   },
   {
    "duration": 14,
    "start_time": "2025-02-18T15:47:26.466Z"
   },
   {
    "duration": 16,
    "start_time": "2025-02-18T15:47:26.482Z"
   },
   {
    "duration": 341,
    "start_time": "2025-02-18T15:47:26.500Z"
   },
   {
    "duration": 286,
    "start_time": "2025-02-18T15:47:26.843Z"
   },
   {
    "duration": 205,
    "start_time": "2025-02-18T15:47:27.130Z"
   },
   {
    "duration": 313,
    "start_time": "2025-02-18T15:47:27.337Z"
   },
   {
    "duration": 204,
    "start_time": "2025-02-18T15:47:27.651Z"
   },
   {
    "duration": 325,
    "start_time": "2025-02-18T15:47:27.857Z"
   },
   {
    "duration": 132,
    "start_time": "2025-02-18T15:47:28.184Z"
   },
   {
    "duration": 4,
    "start_time": "2025-02-18T15:47:28.317Z"
   },
   {
    "duration": 169,
    "start_time": "2025-02-18T15:47:28.323Z"
   },
   {
    "duration": 4,
    "start_time": "2025-02-18T15:47:28.494Z"
   },
   {
    "duration": 470,
    "start_time": "2025-02-18T15:47:28.500Z"
   },
   {
    "duration": 11,
    "start_time": "2025-02-18T15:47:28.971Z"
   },
   {
    "duration": 143,
    "start_time": "2025-02-18T15:47:28.983Z"
   },
   {
    "duration": 377,
    "start_time": "2025-02-18T15:47:29.128Z"
   },
   {
    "duration": 15,
    "start_time": "2025-02-18T15:47:29.506Z"
   },
   {
    "duration": 1227,
    "start_time": "2025-02-18T16:22:34.095Z"
   },
   {
    "duration": 29,
    "start_time": "2025-02-18T16:22:35.324Z"
   },
   {
    "duration": 11,
    "start_time": "2025-02-18T16:22:35.355Z"
   },
   {
    "duration": 16,
    "start_time": "2025-02-18T16:22:35.369Z"
   },
   {
    "duration": 12,
    "start_time": "2025-02-18T16:22:35.387Z"
   },
   {
    "duration": 71,
    "start_time": "2025-02-18T16:22:35.400Z"
   },
   {
    "duration": 20,
    "start_time": "2025-02-18T16:22:35.473Z"
   },
   {
    "duration": 23,
    "start_time": "2025-02-18T16:22:35.494Z"
   },
   {
    "duration": 52,
    "start_time": "2025-02-18T16:22:35.519Z"
   },
   {
    "duration": 18,
    "start_time": "2025-02-18T16:22:35.575Z"
   },
   {
    "duration": 326,
    "start_time": "2025-02-18T16:22:35.595Z"
   },
   {
    "duration": 294,
    "start_time": "2025-02-18T16:22:35.923Z"
   },
   {
    "duration": 215,
    "start_time": "2025-02-18T16:22:36.219Z"
   },
   {
    "duration": 321,
    "start_time": "2025-02-18T16:22:36.436Z"
   },
   {
    "duration": 206,
    "start_time": "2025-02-18T16:22:36.759Z"
   },
   {
    "duration": 317,
    "start_time": "2025-02-18T16:22:36.969Z"
   },
   {
    "duration": 136,
    "start_time": "2025-02-18T16:22:37.288Z"
   },
   {
    "duration": 4,
    "start_time": "2025-02-18T16:22:37.426Z"
   },
   {
    "duration": 143,
    "start_time": "2025-02-18T16:22:37.431Z"
   },
   {
    "duration": 4,
    "start_time": "2025-02-18T16:22:37.576Z"
   },
   {
    "duration": 455,
    "start_time": "2025-02-18T16:22:37.582Z"
   },
   {
    "duration": 10,
    "start_time": "2025-02-18T16:22:38.038Z"
   },
   {
    "duration": 159,
    "start_time": "2025-02-18T16:22:38.049Z"
   },
   {
    "duration": 350,
    "start_time": "2025-02-18T16:22:38.210Z"
   },
   {
    "duration": 14,
    "start_time": "2025-02-18T16:22:38.569Z"
   },
   {
    "duration": 1435,
    "start_time": "2025-02-18T16:26:45.143Z"
   },
   {
    "duration": 29,
    "start_time": "2025-02-18T16:26:46.580Z"
   },
   {
    "duration": 13,
    "start_time": "2025-02-18T16:26:46.611Z"
   },
   {
    "duration": 16,
    "start_time": "2025-02-18T16:26:46.626Z"
   },
   {
    "duration": 19,
    "start_time": "2025-02-18T16:26:46.643Z"
   },
   {
    "duration": 60,
    "start_time": "2025-02-18T16:26:46.664Z"
   },
   {
    "duration": 21,
    "start_time": "2025-02-18T16:26:46.726Z"
   },
   {
    "duration": 25,
    "start_time": "2025-02-18T16:26:46.749Z"
   },
   {
    "duration": 41,
    "start_time": "2025-02-18T16:26:46.776Z"
   },
   {
    "duration": 16,
    "start_time": "2025-02-18T16:26:46.819Z"
   },
   {
    "duration": 321,
    "start_time": "2025-02-18T16:26:46.836Z"
   },
   {
    "duration": 292,
    "start_time": "2025-02-18T16:26:47.158Z"
   },
   {
    "duration": 221,
    "start_time": "2025-02-18T16:26:47.451Z"
   },
   {
    "duration": 298,
    "start_time": "2025-02-18T16:26:47.674Z"
   },
   {
    "duration": 198,
    "start_time": "2025-02-18T16:26:47.974Z"
   },
   {
    "duration": 318,
    "start_time": "2025-02-18T16:26:48.174Z"
   },
   {
    "duration": 129,
    "start_time": "2025-02-18T16:26:48.494Z"
   },
   {
    "duration": 4,
    "start_time": "2025-02-18T16:26:48.624Z"
   },
   {
    "duration": 160,
    "start_time": "2025-02-18T16:26:48.630Z"
   },
   {
    "duration": 5,
    "start_time": "2025-02-18T16:26:48.793Z"
   },
   {
    "duration": 461,
    "start_time": "2025-02-18T16:26:48.800Z"
   },
   {
    "duration": 14,
    "start_time": "2025-02-18T16:26:49.264Z"
   },
   {
    "duration": 186,
    "start_time": "2025-02-18T16:26:49.280Z"
   },
   {
    "duration": 407,
    "start_time": "2025-02-18T16:26:49.470Z"
   },
   {
    "duration": 13,
    "start_time": "2025-02-18T16:26:49.879Z"
   },
   {
    "duration": 1675,
    "start_time": "2025-02-21T12:28:24.748Z"
   },
   {
    "duration": 63,
    "start_time": "2025-02-21T12:28:26.425Z"
   },
   {
    "duration": 15,
    "start_time": "2025-02-21T12:28:26.490Z"
   },
   {
    "duration": 14,
    "start_time": "2025-02-21T12:28:26.506Z"
   },
   {
    "duration": 18,
    "start_time": "2025-02-21T12:28:26.522Z"
   },
   {
    "duration": 122,
    "start_time": "2025-02-21T12:28:26.542Z"
   },
   {
    "duration": 35,
    "start_time": "2025-02-21T12:28:26.666Z"
   },
   {
    "duration": 27,
    "start_time": "2025-02-21T12:28:26.703Z"
   },
   {
    "duration": 48,
    "start_time": "2025-02-21T12:28:26.732Z"
   },
   {
    "duration": 349,
    "start_time": "2025-02-21T12:28:26.781Z"
   },
   {
    "duration": 358,
    "start_time": "2025-02-21T12:28:27.132Z"
   },
   {
    "duration": 219,
    "start_time": "2025-02-21T12:28:27.492Z"
   },
   {
    "duration": 378,
    "start_time": "2025-02-21T12:28:27.713Z"
   },
   {
    "duration": 232,
    "start_time": "2025-02-21T12:28:28.094Z"
   },
   {
    "duration": 369,
    "start_time": "2025-02-21T12:28:28.328Z"
   },
   {
    "duration": 150,
    "start_time": "2025-02-21T12:28:28.699Z"
   },
   {
    "duration": 4,
    "start_time": "2025-02-21T12:28:28.851Z"
   },
   {
    "duration": 192,
    "start_time": "2025-02-21T12:28:28.856Z"
   },
   {
    "duration": 4,
    "start_time": "2025-02-21T12:28:29.050Z"
   },
   {
    "duration": 538,
    "start_time": "2025-02-21T12:28:29.056Z"
   },
   {
    "duration": 15,
    "start_time": "2025-02-21T12:28:29.597Z"
   },
   {
    "duration": 181,
    "start_time": "2025-02-21T12:28:29.614Z"
   },
   {
    "duration": 430,
    "start_time": "2025-02-21T12:28:29.797Z"
   },
   {
    "duration": 15,
    "start_time": "2025-02-21T12:28:30.229Z"
   },
   {
    "duration": 241,
    "start_time": "2025-02-21T12:41:27.888Z"
   },
   {
    "duration": 218,
    "start_time": "2025-02-21T12:41:35.338Z"
   },
   {
    "duration": 245,
    "start_time": "2025-02-21T12:44:09.317Z"
   },
   {
    "duration": 353,
    "start_time": "2025-02-21T12:44:18.810Z"
   },
   {
    "duration": 1474,
    "start_time": "2025-02-21T12:44:34.503Z"
   },
   {
    "duration": 31,
    "start_time": "2025-02-21T12:44:35.979Z"
   },
   {
    "duration": 13,
    "start_time": "2025-02-21T12:44:36.011Z"
   },
   {
    "duration": 18,
    "start_time": "2025-02-21T12:44:36.025Z"
   },
   {
    "duration": 14,
    "start_time": "2025-02-21T12:44:36.045Z"
   },
   {
    "duration": 88,
    "start_time": "2025-02-21T12:44:36.060Z"
   },
   {
    "duration": 26,
    "start_time": "2025-02-21T12:44:36.150Z"
   },
   {
    "duration": 36,
    "start_time": "2025-02-21T12:44:36.179Z"
   },
   {
    "duration": 17,
    "start_time": "2025-02-21T12:44:36.217Z"
   },
   {
    "duration": 402,
    "start_time": "2025-02-21T12:44:36.237Z"
   },
   {
    "duration": 366,
    "start_time": "2025-02-21T12:44:36.641Z"
   },
   {
    "duration": 254,
    "start_time": "2025-02-21T12:44:37.010Z"
   },
   {
    "duration": 356,
    "start_time": "2025-02-21T12:44:37.265Z"
   },
   {
    "duration": 275,
    "start_time": "2025-02-21T12:44:37.624Z"
   },
   {
    "duration": 331,
    "start_time": "2025-02-21T12:44:37.901Z"
   },
   {
    "duration": 167,
    "start_time": "2025-02-21T12:44:38.234Z"
   },
   {
    "duration": 5,
    "start_time": "2025-02-21T12:44:38.405Z"
   },
   {
    "duration": 213,
    "start_time": "2025-02-21T12:44:38.412Z"
   },
   {
    "duration": 6,
    "start_time": "2025-02-21T12:44:38.627Z"
   },
   {
    "duration": 669,
    "start_time": "2025-02-21T12:44:38.635Z"
   },
   {
    "duration": 22,
    "start_time": "2025-02-21T12:44:39.306Z"
   },
   {
    "duration": 195,
    "start_time": "2025-02-21T12:44:39.330Z"
   },
   {
    "duration": 445,
    "start_time": "2025-02-21T12:44:39.527Z"
   },
   {
    "duration": 29,
    "start_time": "2025-02-21T12:44:39.979Z"
   },
   {
    "duration": 121,
    "start_time": "2025-02-21T14:58:51.553Z"
   },
   {
    "duration": 15,
    "start_time": "2025-02-21T14:59:08.642Z"
   },
   {
    "duration": 24,
    "start_time": "2025-02-21T15:01:20.304Z"
   },
   {
    "duration": 21,
    "start_time": "2025-02-21T15:01:37.896Z"
   },
   {
    "duration": 24,
    "start_time": "2025-02-21T15:02:27.198Z"
   },
   {
    "duration": 29,
    "start_time": "2025-02-21T15:03:17.060Z"
   },
   {
    "duration": 1240,
    "start_time": "2025-02-22T06:44:38.988Z"
   },
   {
    "duration": 17,
    "start_time": "2025-02-22T06:44:40.230Z"
   },
   {
    "duration": 12,
    "start_time": "2025-02-22T06:44:40.248Z"
   },
   {
    "duration": 16,
    "start_time": "2025-02-22T06:44:40.262Z"
   },
   {
    "duration": 49,
    "start_time": "2025-02-22T06:44:40.281Z"
   },
   {
    "duration": 69,
    "start_time": "2025-02-22T06:44:40.332Z"
   },
   {
    "duration": 20,
    "start_time": "2025-02-22T06:44:40.402Z"
   },
   {
    "duration": 22,
    "start_time": "2025-02-22T06:44:40.424Z"
   },
   {
    "duration": 30,
    "start_time": "2025-02-22T06:44:40.448Z"
   },
   {
    "duration": 22,
    "start_time": "2025-02-22T06:44:40.480Z"
   },
   {
    "duration": 328,
    "start_time": "2025-02-22T06:44:40.504Z"
   },
   {
    "duration": 303,
    "start_time": "2025-02-22T06:44:40.833Z"
   },
   {
    "duration": 236,
    "start_time": "2025-02-22T06:44:41.138Z"
   },
   {
    "duration": 300,
    "start_time": "2025-02-22T06:44:41.377Z"
   },
   {
    "duration": 220,
    "start_time": "2025-02-22T06:44:41.679Z"
   },
   {
    "duration": 292,
    "start_time": "2025-02-22T06:44:41.901Z"
   },
   {
    "duration": 126,
    "start_time": "2025-02-22T06:44:42.195Z"
   },
   {
    "duration": 4,
    "start_time": "2025-02-22T06:44:42.322Z"
   },
   {
    "duration": 150,
    "start_time": "2025-02-22T06:44:42.327Z"
   },
   {
    "duration": 5,
    "start_time": "2025-02-22T06:44:42.478Z"
   },
   {
    "duration": 446,
    "start_time": "2025-02-22T06:44:42.484Z"
   },
   {
    "duration": 11,
    "start_time": "2025-02-22T06:44:42.932Z"
   },
   {
    "duration": 159,
    "start_time": "2025-02-22T06:44:42.945Z"
   },
   {
    "duration": 399,
    "start_time": "2025-02-22T06:44:43.106Z"
   },
   {
    "duration": 16,
    "start_time": "2025-02-22T06:44:43.507Z"
   },
   {
    "duration": 1219,
    "start_time": "2025-02-22T06:54:15.579Z"
   },
   {
    "duration": 17,
    "start_time": "2025-02-22T06:54:16.799Z"
   },
   {
    "duration": 12,
    "start_time": "2025-02-22T06:54:16.817Z"
   },
   {
    "duration": 12,
    "start_time": "2025-02-22T06:54:16.831Z"
   },
   {
    "duration": 12,
    "start_time": "2025-02-22T06:54:16.844Z"
   },
   {
    "duration": 56,
    "start_time": "2025-02-22T06:54:16.874Z"
   },
   {
    "duration": 20,
    "start_time": "2025-02-22T06:54:16.931Z"
   },
   {
    "duration": 24,
    "start_time": "2025-02-22T06:54:16.952Z"
   },
   {
    "duration": 29,
    "start_time": "2025-02-22T06:54:16.978Z"
   },
   {
    "duration": 21,
    "start_time": "2025-02-22T06:54:17.010Z"
   },
   {
    "duration": 312,
    "start_time": "2025-02-22T06:54:17.033Z"
   },
   {
    "duration": 283,
    "start_time": "2025-02-22T06:54:17.346Z"
   },
   {
    "duration": 202,
    "start_time": "2025-02-22T06:54:17.630Z"
   },
   {
    "duration": 349,
    "start_time": "2025-02-22T06:54:17.834Z"
   },
   {
    "duration": 213,
    "start_time": "2025-02-22T06:54:18.185Z"
   },
   {
    "duration": 309,
    "start_time": "2025-02-22T06:54:18.400Z"
   },
   {
    "duration": 132,
    "start_time": "2025-02-22T06:54:18.711Z"
   },
   {
    "duration": 4,
    "start_time": "2025-02-22T06:54:18.845Z"
   },
   {
    "duration": 145,
    "start_time": "2025-02-22T06:54:18.851Z"
   },
   {
    "duration": 4,
    "start_time": "2025-02-22T06:54:18.998Z"
   },
   {
    "duration": 470,
    "start_time": "2025-02-22T06:54:19.004Z"
   },
   {
    "duration": 11,
    "start_time": "2025-02-22T06:54:19.476Z"
   },
   {
    "duration": 176,
    "start_time": "2025-02-22T06:54:19.489Z"
   },
   {
    "duration": 418,
    "start_time": "2025-02-22T06:54:19.675Z"
   },
   {
    "duration": 14,
    "start_time": "2025-02-22T06:54:20.095Z"
   }
  ],
  "kernelspec": {
   "display_name": "Python 3 (ipykernel)",
   "language": "python",
   "name": "python3"
  },
  "language_info": {
   "codemirror_mode": {
    "name": "ipython",
    "version": 3
   },
   "file_extension": ".py",
   "mimetype": "text/x-python",
   "name": "python",
   "nbconvert_exporter": "python",
   "pygments_lexer": "ipython3",
   "version": "3.11.7"
  },
  "toc": {
   "base_numbering": 1,
   "nav_menu": {},
   "number_sections": true,
   "sideBar": true,
   "skip_h1_title": true,
   "title_cell": "Table of Contents",
   "title_sidebar": "Contents",
   "toc_cell": false,
   "toc_position": {},
   "toc_section_display": true,
   "toc_window_display": false
  }
 },
 "nbformat": 4,
 "nbformat_minor": 4
}
